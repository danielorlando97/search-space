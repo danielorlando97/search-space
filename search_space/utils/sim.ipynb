{
 "cells": [
  {
   "cell_type": "markdown",
   "metadata": {},
   "source": [
    "> Integrantes:\n",
    ">\n",
    "> Jorge Mederos Alvarado\n",
    ">\n",
    "> Rodrigo Garcia Gomez"
   ]
  },
  {
   "cell_type": "markdown",
   "metadata": {},
   "source": [
    "# Simulacion de variables aleatorias"
   ]
  },
  {
   "cell_type": "markdown",
   "metadata": {},
   "source": [
    "## Requirements"
   ]
  },
  {
   "cell_type": "code",
   "execution_count": 1,
   "metadata": {},
   "outputs": [],
   "source": [
    "# !pip install numpy seaborn matplotlib"
   ]
  },
  {
   "cell_type": "markdown",
   "metadata": {},
   "source": [
    "## Utils"
   ]
  },
  {
   "cell_type": "code",
   "execution_count": 2,
   "metadata": {},
   "outputs": [],
   "source": [
    "import math\n",
    "\n",
    "def simulate(variable, n):\n",
    "    return [variable() for _ in range(n)]\n",
    "\n",
    "def expected_value(results):\n",
    "    return sum(results) / len(results)\n",
    "\n",
    "def variance(results):\n",
    "    ex = expected_value(results)\n",
    "    return sum((xi - ex)**2 for xi in results) / len(results)\n",
    "\n",
    "def standard_deviation(results):\n",
    "    return math.sqrt(variance(results))"
   ]
  },
  {
   "cell_type": "code",
   "execution_count": 3,
   "metadata": {},
   "outputs": [
    {
     "ename": "ModuleNotFoundError",
     "evalue": "No module named 'seaborn'",
     "output_type": "error",
     "traceback": [
      "\u001b[0;31m---------------------------------------------------------------------------\u001b[0m",
      "\u001b[0;31mModuleNotFoundError\u001b[0m                       Traceback (most recent call last)",
      "\u001b[0;32m<ipython-input-3-838f638f1d90>\u001b[0m in \u001b[0;36m<module>\u001b[0;34m\u001b[0m\n\u001b[1;32m      1\u001b[0m \u001b[0;32mimport\u001b[0m \u001b[0mnumpy\u001b[0m \u001b[0;32mas\u001b[0m \u001b[0mnp\u001b[0m\u001b[0;34m\u001b[0m\u001b[0;34m\u001b[0m\u001b[0m\n\u001b[0;32m----> 2\u001b[0;31m \u001b[0;32mimport\u001b[0m \u001b[0mseaborn\u001b[0m \u001b[0;32mas\u001b[0m \u001b[0msns\u001b[0m\u001b[0;34m\u001b[0m\u001b[0;34m\u001b[0m\u001b[0m\n\u001b[0m\u001b[1;32m      3\u001b[0m \u001b[0;32mimport\u001b[0m \u001b[0mmatplotlib\u001b[0m\u001b[0;34m.\u001b[0m\u001b[0mpyplot\u001b[0m \u001b[0;32mas\u001b[0m \u001b[0mplt\u001b[0m\u001b[0;34m\u001b[0m\u001b[0;34m\u001b[0m\u001b[0m\n\u001b[1;32m      4\u001b[0m \u001b[0;34m\u001b[0m\u001b[0m\n\u001b[1;32m      5\u001b[0m \u001b[0msns\u001b[0m\u001b[0;34m.\u001b[0m\u001b[0mset_style\u001b[0m\u001b[0;34m(\u001b[0m\u001b[0;34m\"darkgrid\"\u001b[0m\u001b[0;34m)\u001b[0m\u001b[0;34m\u001b[0m\u001b[0;34m\u001b[0m\u001b[0m\n",
      "\u001b[0;31mModuleNotFoundError\u001b[0m: No module named 'seaborn'"
     ]
    }
   ],
   "source": [
    "import numpy as np\n",
    "import seaborn as sns\n",
    "import matplotlib.pyplot as plt\n",
    "\n",
    "sns.set_style(\"darkgrid\")\n",
    "\n",
    "def show_insights_default(results):\n",
    "    ex = expected_value(results)\n",
    "    vx = variance(results)\n",
    "    sd = standard_deviation(results)\n",
    "\n",
    "    print(f\"Expected Value: {ex}\")\n",
    "    print(f\"Variace: {vx}\")\n",
    "    print(f\"Standard Deviation: {sd}\")\n",
    "\n",
    "def show_insights_discrete(results):\n",
    "    show_insights_default(results)\n",
    "    \n",
    "    sns.displot(results, kind=\"hist\", stat=\"probability\")\n",
    "\n",
    "    plt.show()\n",
    "\n",
    "def show_insights_continuous(results):\n",
    "    show_insights_default(results)\n",
    "    \n",
    "#     sns.displot(results, kind=\"ecdf\")\n",
    "    sns.displot(results, kind=\"hist\", stat=\"density\")\n",
    "\n",
    "    plt.show()"
   ]
  },
  {
   "cell_type": "markdown",
   "metadata": {},
   "source": [
    "## Uniforme"
   ]
  },
  {
   "cell_type": "code",
   "execution_count": 4,
   "metadata": {},
   "outputs": [],
   "source": [
    "import random\n",
    "\n",
    "def uniform(a=0, b=1):\n",
    "    return random.uniform(a, b)"
   ]
  },
  {
   "cell_type": "code",
   "execution_count": 22,
   "metadata": {},
   "outputs": [
    {
     "name": "stdout",
     "output_type": "stream",
     "text": [
      "Expected Value: 0.5009171886009778\n",
      "Variace: 0.08331051584572541\n",
      "Standard Deviation: 0.2886356108412914\n"
     ]
    },
    {
     "data": {
      "image/png": "[encoded data removed]",
      "text/plain": [
       "<Figure size 360x360 with 1 Axes>"
      ]
     },
     "metadata": {},
     "output_type": "display_data"
    }
   ],
   "source": [
    "results = simulate(lambda:uniform(), 100000)\n",
    "\n",
    "show_insights_continuous(results)"
   ]
  },
  {
   "cell_type": "markdown",
   "metadata": {},
   "source": [
    "## Variable Aleatoria Discreta Finita"
   ]
  },
  {
   "cell_type": "code",
   "execution_count": 6,
   "metadata": {},
   "outputs": [],
   "source": [
    "def finite_va(value_prob_pairs):\n",
    "    value_probs_sorted = sorted(value_prob_pairs, key=lambda vp: vp[1], reverse=True)\n",
    "    u = uniform()\n",
    "    for v, p in value_probs_sorted:\n",
    "        if u < p:\n",
    "            return v\n",
    "        else:\n",
    "            u -= p\n"
   ]
  },
  {
   "cell_type": "markdown",
   "metadata": {},
   "source": [
    "## Bernoulli"
   ]
  },
  {
   "cell_type": "code",
   "execution_count": 7,
   "metadata": {},
   "outputs": [],
   "source": [
    "def bernoulli(p):\n",
    "    return finite_va([(0, p), (1, 1-p)])"
   ]
  },
  {
   "cell_type": "code",
   "execution_count": 8,
   "metadata": {},
   "outputs": [
    {
     "name": "stdout",
     "output_type": "stream",
     "text": [
      "Expected Value: 0.4984\n",
      "Variace: 0.24999743999999782\n",
      "Standard Deviation: 0.4999974399934442\n"
     ]
    },
    {
     "data": {
      "image/png": "[encoded data removed]",
      "text/plain": [
       "<Figure size 360x360 with 1 Axes>"
      ]
     },
     "metadata": {},
     "output_type": "display_data"
    }
   ],
   "source": [
    "results = simulate(lambda: bernoulli(0.5), 10000)\n",
    "\n",
    "show_insights_discrete(results)"
   ]
  },
  {
   "cell_type": "markdown",
   "metadata": {},
   "source": [
    "## Binomial"
   ]
  },
  {
   "cell_type": "code",
   "execution_count": 9,
   "metadata": {},
   "outputs": [],
   "source": [
    "def binomial(n, p):\n",
    "    return sum(bernoulli(p) for _ in range(n))"
   ]
  },
  {
   "cell_type": "code",
   "execution_count": 10,
   "metadata": {},
   "outputs": [
    {
     "name": "stdout",
     "output_type": "stream",
     "text": [
      "Expected Value: 4.9925\n",
      "Variace: 2.4768437499999325\n",
      "Standard Deviation: 1.573799145380354\n"
     ]
    },
    {
     "data": {
      "image/png": "[encoded data removed]",
      "text/plain": [
       "<Figure size 360x360 with 1 Axes>"
      ]
     },
     "metadata": {},
     "output_type": "display_data"
    }
   ],
   "source": [
    "results = simulate(lambda: binomial(10, 0.5), 10000)\n",
    "\n",
    "show_insights_discrete(results)"
   ]
  },
  {
   "cell_type": "markdown",
   "metadata": {},
   "source": [
    "## Geometrica  "
   ]
  },
  {
   "cell_type": "code",
   "execution_count": 11,
   "metadata": {},
   "outputs": [],
   "source": [
    "def geometric(p):\n",
    "    k = 1\n",
    "    while bernoulli(p) == 0:\n",
    "        k += 1\n",
    "    return k"
   ]
  },
  {
   "cell_type": "code",
   "execution_count": 12,
   "metadata": {},
   "outputs": [
    {
     "name": "stdout",
     "output_type": "stream",
     "text": [
      "Expected Value: 1.9868\n",
      "Variace: 1.9574257599999156\n",
      "Standard Deviation: 1.3990803265002034\n"
     ]
    },
    {
     "data": {
      "image/png": "[encoded data removed]",
      "text/plain": [
       "<Figure size 360x360 with 1 Axes>"
      ]
     },
     "metadata": {},
     "output_type": "display_data"
    }
   ],
   "source": [
    "results = simulate(lambda: geometric(0.5), 10000)\n",
    "\n",
    "show_insights_discrete(results)"
   ]
  },
  {
   "cell_type": "code",
   "execution_count": 13,
   "metadata": {},
   "outputs": [],
   "source": [
    "import math\n",
    "\n",
    "def geometric_improved(p):\n",
    "    u = uniform()\n",
    "    return math.log(u) // math.log(1-p) + 1"
   ]
  },
  {
   "cell_type": "code",
   "execution_count": 14,
   "metadata": {},
   "outputs": [
    {
     "name": "stdout",
     "output_type": "stream",
     "text": [
      "Expected Value: 2.0166\n",
      "Variace: 2.0605244399999942\n",
      "Standard Deviation: 1.4354526951453308\n"
     ]
    },
    {
     "data": {
      "image/png": "[encoded data removed]",
      "text/plain": [
       "<Figure size 360x360 with 1 Axes>"
      ]
     },
     "metadata": {},
     "output_type": "display_data"
    }
   ],
   "source": [
    "results = simulate(lambda: geometric_improved(0.5), 10000)\n",
    "\n",
    "show_insights_discrete(results)"
   ]
  },
  {
   "cell_type": "markdown",
   "metadata": {},
   "source": [
    "## Binomial Negativa"
   ]
  },
  {
   "cell_type": "code",
   "execution_count": 15,
   "metadata": {},
   "outputs": [],
   "source": [
    "# geo = geometric\n",
    "geo = geometric_improved\n",
    "\n",
    "def negative_binomial(r, p):\n",
    "    return sum(geo(p) for _ in range(r))"
   ]
  },
  {
   "cell_type": "code",
   "execution_count": 16,
   "metadata": {},
   "outputs": [
    {
     "name": "stdout",
     "output_type": "stream",
     "text": [
      "Expected Value: 19.9997\n",
      "Variace: 19.416299909998518\n",
      "Standard Deviation: 4.406393072570639\n"
     ]
    },
    {
     "data": {
      "image/png": "[encoded data removed]",
      "text/plain": [
       "<Figure size 360x360 with 1 Axes>"
      ]
     },
     "metadata": {},
     "output_type": "display_data"
    }
   ],
   "source": [
    "results = simulate(lambda: negative_binomial(10, 0.5), 10000)\n",
    "\n",
    "show_insights_discrete(results)"
   ]
  },
  {
   "cell_type": "markdown",
   "metadata": {},
   "source": [
    "## Exponencial"
   ]
  },
  {
   "cell_type": "code",
   "execution_count": 17,
   "metadata": {},
   "outputs": [],
   "source": [
    "import math\n",
    "\n",
    "def exponential(lambda_):\n",
    "    return -1 * math.log(uniform()) / lambda_"
   ]
  },
  {
   "cell_type": "code",
   "execution_count": 18,
   "metadata": {},
   "outputs": [
    {
     "name": "stdout",
     "output_type": "stream",
     "text": [
      "Expected Value: 0.33662275796806473\n",
      "Variace: 0.11511255543150885\n",
      "Standard Deviation: 0.3392824124995412\n"
     ]
    },
    {
     "data": {
      "image/png": "[encoded data removed]",
      "text/plain": [
       "<Figure size 360x360 with 1 Axes>"
      ]
     },
     "metadata": {},
     "output_type": "display_data"
    }
   ],
   "source": [
    "results = simulate(lambda: exponential(3), 10000)\n",
    "\n",
    "show_insights_continuous(results)"
   ]
  },
  {
   "cell_type": "markdown",
   "metadata": {},
   "source": [
    "## Normal"
   ]
  },
  {
   "cell_type": "code",
   "execution_count": 19,
   "metadata": {},
   "outputs": [],
   "source": [
    "import math\n",
    "\n",
    "def sign(p):\n",
    "    return finite_va([(1, p), (-1, 1-p)])\n",
    "\n",
    "def standard():\n",
    "    while True:\n",
    "        y = exponential(1)\n",
    "        u = uniform()\n",
    "        if u <= math.exp(-(y-1)*(y-1)/2):\n",
    "            return sign(0.5) * y\n",
    "\n",
    "def normal(mu, sigma_squared):\n",
    "    return standard() * math.sqrt(sigma_squared) + mu"
   ]
  },
  {
   "cell_type": "code",
   "execution_count": 20,
   "metadata": {},
   "outputs": [
    {
     "name": "stdout",
     "output_type": "stream",
     "text": [
      "Expected Value: 0.004404331360985844\n",
      "Variace: 0.9831846675145282\n",
      "Standard Deviation: 0.9915566890070019\n"
     ]
    },
    {
     "data": {
      "image/png": "[encoded data removed]",
      "text/plain": [
       "<Figure size 360x360 with 1 Axes>"
      ]
     },
     "metadata": {},
     "output_type": "display_data"
    }
   ],
   "source": [
    "results = simulate(lambda: standard(), 10000)\n",
    "\n",
    "show_insights_continuous(results)"
   ]
  },
  {
   "cell_type": "code",
   "execution_count": null,
   "metadata": {},
   "outputs": [],
   "source": []
  }
 ],
 "metadata": {
  "kernelspec": {
   "display_name": "Python 3.9.13 ('search-space-GOxR18rK')",
   "language": "python",
   "name": "python3"
  },
  "language_info": {
   "codemirror_mode": {
    "name": "ipython",
    "version": 3
   },
   "file_extension": ".py",
   "mimetype": "text/x-python",
   "name": "python",
   "nbconvert_exporter": "python",
   "pygments_lexer": "ipython3",
   "version": "3.9.13"
  },
  "vscode": {
   "interpreter": {
    "hash": "c79e4088d227ec38596042bb0116e2a52748b9fd0976467c629425f8895ee7f3"
   }
  }
 },
 "nbformat": 4,
 "nbformat_minor": 4
}
