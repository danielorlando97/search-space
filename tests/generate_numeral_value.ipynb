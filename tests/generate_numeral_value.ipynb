{
 "cells": [
  {
   "cell_type": "code",
   "execution_count": 2,
   "metadata": {},
   "outputs": [],
   "source": [
    "import sys\n",
    "# setting path\n",
    "sys.path.append('../src')"
   ]
  },
  {
   "cell_type": "code",
   "execution_count": 3,
   "metadata": {},
   "outputs": [],
   "source": [
    "from search_space import ContinueSearchSpace\n",
    "from samplers import ContinueNormalDistributeSampler\n",
    "\n",
    "ContinueParam1 = ContinueSearchSpace(0, 11, distribute_like = ContinueNormalDistributeSampler(u=5, o2=2)) | (lambda x: (x >= 2, x <= 8)) \n",
    "ContinueParam2 = ContinueSearchSpace(0, 11, distribute_like = ContinueNormalDistributeSampler(u=8, o2=8)).such_that(lambda x: (x >= 2 , x <= 8))"
   ]
  },
  {
   "cell_type": "code",
   "execution_count": 4,
   "metadata": {},
   "outputs": [
    {
     "name": "stdout",
     "output_type": "stream",
     "text": [
      "Init with domain (0, 11)\n",
      "Transformed domain (0, 11)\n",
      "Check conditions by sampler 4.1140041925462665\n"
     ]
    },
    {
     "data": {
      "text/plain": [
       "4.1140041925462665"
      ]
     },
     "execution_count": 4,
     "metadata": {},
     "output_type": "execute_result"
    }
   ],
   "source": [
    "ContinueParam1.get_sampler()"
   ]
  },
  {
   "cell_type": "code",
   "execution_count": 5,
   "metadata": {},
   "outputs": [
    {
     "name": "stdout",
     "output_type": "stream",
     "text": [
      "Init with domain (0, 11)\n",
      "Transformed domain (2, 8)\n",
      "Check conditions by sampler 3.4594714725338385\n"
     ]
    },
    {
     "data": {
      "text/plain": [
       "3.4594714725338385"
      ]
     },
     "execution_count": 5,
     "metadata": {},
     "output_type": "execute_result"
    }
   ],
   "source": [
    "ContinueParam2.get_sampler()"
   ]
  }
 ],
 "metadata": {
  "kernelspec": {
   "display_name": "Python 3.9.13 ('search-space-GOxR18rK')",
   "language": "python",
   "name": "python3"
  },
  "language_info": {
   "codemirror_mode": {
    "name": "ipython",
    "version": 3
   },
   "file_extension": ".py",
   "mimetype": "text/x-python",
   "name": "python",
   "nbconvert_exporter": "python",
   "pygments_lexer": "ipython3",
   "version": "3.9.13"
  },
  "orig_nbformat": 4,
  "vscode": {
   "interpreter": {
    "hash": "c79e4088d227ec38596042bb0116e2a52748b9fd0976467c629425f8895ee7f3"
   }
  }
 },
 "nbformat": 4,
 "nbformat_minor": 2
}
