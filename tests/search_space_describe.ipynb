{
 "cells": [
  {
   "cell_type": "code",
   "execution_count": 1,
   "metadata": {},
   "outputs": [],
   "source": [
    "import sys\n",
    "# setting path\n",
    "sys.path.append('../src')"
   ]
  },
  {
   "cell_type": "code",
   "execution_count": 2,
   "metadata": {},
   "outputs": [],
   "source": [
    "from search_space import ContinueSearchSpace, NaturalSearchSpace, ObjectSearchSpace\n",
    "from search_space import UniversalVariable, CategoricalSearchSpace, BooleanSearchSpace, ContextManagerSearchSpace"
   ]
  },
  {
   "cell_type": "code",
   "execution_count": 3,
   "metadata": {},
   "outputs": [],
   "source": [
    "## FIXME supuse que en algun punto de la generacion se pueden listar todos los search space\n",
    "## FIXME los delegados tiene el scope padre de la clase\n",
    "\n",
    "\n",
    "## ✅✅  TODO: only struct with override is UniversalVariable\n",
    "## ✅✅  TODO: SearchSpace ListDomain\n",
    "## ✅✅  TODO: Conditional Constraint\n",
    "## ✅✅  TODO: Delegate Constraint\n",
    "## ✅✅  TODO: Context Sampler\n",
    "## TODO: Infinite Iterate SearchSpaces\n",
    "## ✅✅  TODO: Test Conditional Constraints\n",
    "## ✅✅  TODO: List Monotypes Search\n",
    "## TODO: List Condition Between Different Index \n",
    "## TODO: MultiTypeSpace\n",
    "## TODO: Check Type Constraint \n",
    "## TODO: Sampler Updates \n",
    "## TODO: Add Infinite Limits\n",
    "## TODO: Check Invalid Domains\n",
    "\n",
    "x = UniversalVariable()\n",
    "\n",
    "class DoorSearchSpace(ObjectSearchSpace):\n",
    "    height = ContinueSearchSpace(log_name=\"Door's Height\")\n",
    "    wight = ContinueSearchSpace(log_name=\"Door's Wight\") | (x <= height)\n",
    "\n",
    "class Alg:\n",
    "    InnerDoorParam = DoorSearchSpace() | (x.height >= 10, x.height <= 20, x.wight >= 10) \n",
    "    ContinueParam = ContinueSearchSpace(0, 1000) | (x >= InnerDoorParam.wight)\n",
    "    NaturalParam = NaturalSearchSpace(0, 1000) | (\n",
    "        ## conditionals\n",
    "        (InnerDoorParam.wight > 10) >> (x <= ContinueParam), \n",
    "        (InnerDoorParam.wight < 10) >> (x >= 10000), \n",
    "    )\n",
    "    BooleanParam = BooleanSearchSpace()\n",
    "    CategoricalParam = CategoricalSearchSpace(['L1', 'L2', 'L3', 'L4']) | (\n",
    "        ## conditionals\n",
    "        (BooleanParam == True) >> (x != 'L1'), \n",
    "        (ContinueParam >= 100) >> (x != 'L2'), \n",
    "        (NaturalParam >= 100) >> (x != 'L3'), \n",
    "    )\n",
    "\n",
    "    def __init__(self, \n",
    "        param: ContinueParam, \n",
    "        param2: NaturalParam, \n",
    "        door: InnerDoorParam,\n",
    "        boolean: BooleanParam,\n",
    "        categorical: CategoricalParam\n",
    "        ) -> None:\n",
    "        pass"
   ]
  },
  {
   "cell_type": "code",
   "execution_count": 4,
   "metadata": {},
   "outputs": [
    {
     "name": "stdout",
     "output_type": "stream",
     "text": [
      "Init with domain ['L1', 'L2', 'L3', 'L4'] in CategoricalSearchSpace\n",
      "Init with domain [False, True] in BooleanSearchSpace\n",
      "Transformed domain [False, True] in BooleanSearchSpace\n",
      "Check conditions by sampler False in BooleanSearchSpace\n",
      "Init with domain (0, 1000) in ContinueSearchSpace\n",
      "Init with domain (0, 100000) in Door's Wight\n",
      "Init with domain (0, 100000) in Door's Height\n",
      "Transformed domain (10, 20) in Door's Height\n",
      "Check conditions by sampler 19.274207280800827 in Door's Height\n",
      "Transformed domain (10, 19.274207280800827) in Door's Wight\n",
      "Check conditions by sampler 11.982886452157755 in Door's Wight\n",
      "Transformed domain (11.982886452157755, 1000) in ContinueSearchSpace\n",
      "Check conditions by sampler 50.22786711951464 in ContinueSearchSpace\n",
      "Init with domain (0, 1000) in NaturalSearchSpace\n",
      "Transformed domain (0, 50.22786711951464) in NaturalSearchSpace\n",
      "Check conditions by sampler 48 in NaturalSearchSpace\n",
      "Transformed domain ['L1', 'L2', 'L3', 'L4'] in CategoricalSearchSpace\n",
      "Check conditions by sampler L4 in CategoricalSearchSpace\n"
     ]
    },
    {
     "data": {
      "text/plain": [
       "'L4'"
      ]
     },
     "execution_count": 4,
     "metadata": {},
     "output_type": "execute_result"
    }
   ],
   "source": [
    "Alg.CategoricalParam.get_sampler()"
   ]
  },
  {
   "cell_type": "code",
   "execution_count": 5,
   "metadata": {},
   "outputs": [
    {
     "name": "stdout",
     "output_type": "stream",
     "text": [
      "Init with domain ['L1', 'L2', 'L3', 'L4'] in CategoricalSearchSpace\n",
      "Init with domain [False, True] in BooleanSearchSpace\n",
      "Transformed domain [False, True] in BooleanSearchSpace\n",
      "Check conditions by sampler False in BooleanSearchSpace\n",
      "Init with domain (0, 1000) in ContinueSearchSpace\n",
      "Init with domain (0, 100000) in Door's Wight\n",
      "Init with domain (0, 100000) in Door's Height\n",
      "Transformed domain (10, 20) in Door's Height\n",
      "Check conditions by sampler 14.515805602452545 in Door's Height\n",
      "Transformed domain (10, 14.515805602452545) in Door's Wight\n",
      "Check conditions by sampler 13.93724243494594 in Door's Wight\n",
      "Transformed domain (13.93724243494594, 1000) in ContinueSearchSpace\n",
      "Check conditions by sampler 898.8182407016418 in ContinueSearchSpace\n",
      "Init with domain (0, 1000) in NaturalSearchSpace\n",
      "Transformed domain (0, 898.8182407016418) in NaturalSearchSpace\n",
      "Check conditions by sampler 22 in NaturalSearchSpace\n",
      "Transformed domain ['L1', 'L3', 'L4'] in CategoricalSearchSpace\n",
      "Check conditions by sampler L4 in CategoricalSearchSpace\n"
     ]
    },
    {
     "data": {
      "text/plain": [
       "'L4'"
      ]
     },
     "execution_count": 5,
     "metadata": {},
     "output_type": "execute_result"
    }
   ],
   "source": [
    "ContextManagerSearchSpace().reset()\n",
    "Alg.CategoricalParam.get_sampler()"
   ]
  },
  {
   "cell_type": "code",
   "execution_count": null,
   "metadata": {},
   "outputs": [],
   "source": []
  }
 ],
 "metadata": {
  "kernelspec": {
   "display_name": "Python 3.9.13 ('search-space-GOxR18rK')",
   "language": "python",
   "name": "python3"
  },
  "language_info": {
   "codemirror_mode": {
    "name": "ipython",
    "version": 3
   },
   "file_extension": ".py",
   "mimetype": "text/x-python",
   "name": "python",
   "nbconvert_exporter": "python",
   "pygments_lexer": "ipython3",
   "version": "3.9.13"
  },
  "orig_nbformat": 4,
  "vscode": {
   "interpreter": {
    "hash": "c79e4088d227ec38596042bb0116e2a52748b9fd0976467c629425f8895ee7f3"
   }
  }
 },
 "nbformat": 4,
 "nbformat_minor": 2
}
