{
 "cells": [
  {
   "cell_type": "code",
   "execution_count": 18,
   "metadata": {},
   "outputs": [],
   "source": [
    "import sys\n",
    "# setting path\n",
    "sys.path.append('../src')"
   ]
  },
  {
   "cell_type": "code",
   "execution_count": 19,
   "metadata": {},
   "outputs": [],
   "source": [
    "from search_space import ContinueSearchSpace, NaturalSearchSpace, ObjectSearchSpace, UniversalVariable\n",
    "x = UniversalVariable()"
   ]
  },
  {
   "cell_type": "code",
   "execution_count": 20,
   "metadata": {},
   "outputs": [],
   "source": [
    "## Limitation (Circular Dependence)\n",
    "## DoorSearchSpace() | lambda x: (x.height < x.wight), (x.height > x.wight)\n",
    "\n",
    "class DoorSearchSpace(ObjectSearchSpace):\n",
    "    height = x << ContinueSearchSpace(10, 20)\n",
    "    wight = x << ContinueSearchSpace() | (x <= height)"
   ]
  },
  {
   "cell_type": "code",
   "execution_count": 23,
   "metadata": {},
   "outputs": [
    {
     "name": "stdout",
     "output_type": "stream",
     "text": [
      "Init with domain {}\n",
      "Transformed domain {}\n",
      "Init with domain (0, 100000)\n",
      "Transformed domain (0, 11.12594239588423)\n",
      "Check conditions by sampler 10.269718828042354\n",
      "Check conditions by sampler {'height': 11.12594239588423, 'wight': 10.269718828042354}\n"
     ]
    },
    {
     "data": {
      "text/plain": [
       "{'height': 11.12594239588423, 'wight': 10.269718828042354}"
      ]
     },
     "execution_count": 23,
     "metadata": {},
     "output_type": "execute_result"
    }
   ],
   "source": [
    "DoorParam = DoorSearchSpace()\n",
    "\n",
    "## TODO: change sampler from dict to class\n",
    "DoorParam.get_sampler()"
   ]
  },
  {
   "cell_type": "code",
   "execution_count": 24,
   "metadata": {},
   "outputs": [],
   "source": [
    "## TODO: only struct with override is UniversalVariable \n",
    "## TODO: SearchSpace ListDomain\n",
    "## TODO: Conditional Constraint\n",
    "## TODO: List Monotypes Search \n",
    "## TODO: MultiTypeSpace\n",
    "## TODO: Check Type Constraint \n",
    "\n",
    "class Alg:\n",
    "    InnerDoorParam = x << DoorSearchSpace() \n",
    "    ContinueParam = x << ContinueSearchSpace() | (x >= InnerDoorParam.height, x <= 3000)\n",
    "    NaturalParam = x << NaturalSearchSpace() | (x <= ContinueParam)\n",
    "\n",
    "    def __init__(self, param: ContinueParam, param2: NaturalParam, door: InnerDoorParam) -> None:\n",
    "        pass"
   ]
  },
  {
   "cell_type": "code",
   "execution_count": 25,
   "metadata": {},
   "outputs": [
    {
     "name": "stdout",
     "output_type": "stream",
     "text": [
      "Init with domain (0, 100000)\n",
      "Init with domain (0, 100000)\n",
      "Transformed domain (11.12594239588423, 3000)\n",
      "Check conditions by sampler 922.7722331956666\n",
      "Transformed domain (0, 922.7722331956666)\n",
      "Check conditions by sampler 904.1537308902542\n"
     ]
    },
    {
     "data": {
      "text/plain": [
       "904.1537308902542"
      ]
     },
     "execution_count": 25,
     "metadata": {},
     "output_type": "execute_result"
    }
   ],
   "source": [
    "Alg.NaturalParam.get_sampler()"
   ]
  },
  {
   "cell_type": "code",
   "execution_count": null,
   "metadata": {},
   "outputs": [],
   "source": []
  }
 ],
 "metadata": {
  "kernelspec": {
   "display_name": "Python 3.9.13 ('search-space-GOxR18rK')",
   "language": "python",
   "name": "python3"
  },
  "language_info": {
   "codemirror_mode": {
    "name": "ipython",
    "version": 3
   },
   "file_extension": ".py",
   "mimetype": "text/x-python",
   "name": "python",
   "nbconvert_exporter": "python",
   "pygments_lexer": "ipython3",
   "version": "3.9.13"
  },
  "orig_nbformat": 4,
  "vscode": {
   "interpreter": {
    "hash": "c79e4088d227ec38596042bb0116e2a52748b9fd0976467c629425f8895ee7f3"
   }
  }
 },
 "nbformat": 4,
 "nbformat_minor": 2
}
