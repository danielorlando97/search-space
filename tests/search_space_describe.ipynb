{
 "cells": [
  {
   "cell_type": "code",
   "execution_count": 1,
   "metadata": {},
   "outputs": [],
   "source": [
    "import sys\n",
    "# setting path\n",
    "sys.path.append('../src')"
   ]
  },
  {
   "cell_type": "code",
   "execution_count": 2,
   "metadata": {},
   "outputs": [],
   "source": [
    "from search_space import ContinueSearchSpace, NaturalSearchSpace, ObjectSearchSpace"
   ]
  },
  {
   "cell_type": "code",
   "execution_count": 3,
   "metadata": {},
   "outputs": [],
   "source": [
    "## Limitation (Circular Dependence)\n",
    "## DoorSearchSpace() | lambda x: (x.height < x.wight), (x.height > x.wight)\n",
    "\n",
    "class DoorSearchSpace(ObjectSearchSpace):\n",
    "    def __init__(self) -> None:\n",
    "        super().__init__()\n",
    "        self.height = ContinueSearchSpace(10, 20)\n",
    "        self.wight = ContinueSearchSpace() | (lambda x: x <= self.height)"
   ]
  },
  {
   "cell_type": "code",
   "execution_count": 4,
   "metadata": {},
   "outputs": [],
   "source": [
    "DoorParam = DoorSearchSpace()"
   ]
  },
  {
   "cell_type": "code",
   "execution_count": 5,
   "metadata": {},
   "outputs": [
    {
     "name": "stdout",
     "output_type": "stream",
     "text": [
      "Init with domain {}\n",
      "Transformed domain {}\n",
      "Init with domain (10, 20)\n",
      "Transformed domain (10, 20)\n",
      "Check conditions by sampler 19.822908005452792\n",
      "Init with domain (0, 100000)\n",
      "Transformed domain (0, 19.822908005452792)\n",
      "Check conditions by sampler 15.536494008461846\n",
      "Check conditions by sampler {'height': 19.822908005452792, 'wight': 15.536494008461846}\n"
     ]
    },
    {
     "data": {
      "text/plain": [
       "{'height': 19.822908005452792, 'wight': 15.536494008461846}"
      ]
     },
     "execution_count": 5,
     "metadata": {},
     "output_type": "execute_result"
    }
   ],
   "source": [
    "## TODO: change sampler from dict to class\n",
    "\n",
    "DoorParam.get_sampler()"
   ]
  },
  {
   "cell_type": "code",
   "execution_count": 6,
   "metadata": {},
   "outputs": [],
   "source": [
    "class Alg:\n",
    "    def __init__(self, param: DoorParam) -> None:\n",
    "        pass"
   ]
  },
  {
   "cell_type": "code",
   "execution_count": null,
   "metadata": {},
   "outputs": [],
   "source": []
  }
 ],
 "metadata": {
  "kernelspec": {
   "display_name": "Python 3.9.13 ('search-space-GOxR18rK')",
   "language": "python",
   "name": "python3"
  },
  "language_info": {
   "codemirror_mode": {
    "name": "ipython",
    "version": 3
   },
   "file_extension": ".py",
   "mimetype": "text/x-python",
   "name": "python",
   "nbconvert_exporter": "python",
   "pygments_lexer": "ipython3",
   "version": "3.9.13"
  },
  "orig_nbformat": 4,
  "vscode": {
   "interpreter": {
    "hash": "c79e4088d227ec38596042bb0116e2a52748b9fd0976467c629425f8895ee7f3"
   }
  }
 },
 "nbformat": 4,
 "nbformat_minor": 2
}
