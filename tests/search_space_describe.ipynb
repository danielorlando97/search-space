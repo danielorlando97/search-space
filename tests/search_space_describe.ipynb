{
 "cells": [
  {
   "cell_type": "code",
   "execution_count": 1,
   "metadata": {},
   "outputs": [],
   "source": [
    "import sys\n",
    "# setting path\n",
    "sys.path.append('../src')"
   ]
  },
  {
   "cell_type": "code",
   "execution_count": 2,
   "metadata": {},
   "outputs": [],
   "source": [
    "from search_space import ContinueSearchSpace, NaturalSearchSpace, ObjectSearchSpace, UniversalVariable"
   ]
  },
  {
   "cell_type": "code",
   "execution_count": 3,
   "metadata": {},
   "outputs": [],
   "source": [
    "## FIXME supuse que en algun punto de la generacion se pueden listar todos los search space\n",
    "## FIXME los delegados tiene el scope padre de la clase\n",
    "\n",
    "\n",
    "## TODO: only struct with override is UniversalVariable \n",
    "## TODO: SearchSpace ListDomain\n",
    "## TODO: Conditional Constraint\n",
    "## TODO: List Monotypes Search \n",
    "## TODO: MultiTypeSpace\n",
    "## TODO: Check Type Constraint \n",
    "## TODO: Sampler Updates \n",
    "\n",
    "x = UniversalVariable()\n",
    "\n",
    "class DoorSearchSpace(ObjectSearchSpace):\n",
    "    height = x << ContinueSearchSpace()\n",
    "    wight = x << ContinueSearchSpace() | (x <= height)\n",
    "\n",
    "class Alg:\n",
    "    InnerDoorParam = x << DoorSearchSpace() | (x.height >= 10, x.height <= 20, x.wight <= 20) \n",
    "    ContinueParam = x << ContinueSearchSpace() | (x >= InnerDoorParam.wight, x <= 3000)\n",
    "    NaturalParam = x << NaturalSearchSpace() | (x <= ContinueParam)\n",
    "\n",
    "    def __init__(self, param: ContinueParam, param2: NaturalParam, door: InnerDoorParam) -> None:\n",
    "        pass"
   ]
  },
  {
   "cell_type": "code",
   "execution_count": 4,
   "metadata": {},
   "outputs": [
    {
     "name": "stdout",
     "output_type": "stream",
     "text": [
      "Init with domain (0, 100000)\n",
      "Init with domain (0, 100000)\n",
      "Init with domain (0, 100000)\n",
      "Init with domain (0, 100000)\n",
      "Transformed domain (10, 20)\n",
      "Check conditions by sampler 19.65329115671095\n",
      "Transformed domain (0, 19.65329115671095)\n",
      "Check conditions by sampler 19.304913447172666\n",
      "Transformed domain (19.304913447172666, 3000)\n",
      "Check conditions by sampler 1254.3322962461928\n",
      "Transformed domain (0, 1254.3322962461928)\n",
      "Check conditions by sampler 980\n"
     ]
    },
    {
     "data": {
      "text/plain": [
       "980"
      ]
     },
     "execution_count": 4,
     "metadata": {},
     "output_type": "execute_result"
    }
   ],
   "source": [
    "Alg.NaturalParam.get_sampler()"
   ]
  },
  {
   "cell_type": "code",
   "execution_count": null,
   "metadata": {},
   "outputs": [],
   "source": []
  }
 ],
 "metadata": {
  "kernelspec": {
   "display_name": "Python 3.9.13 ('search-space-GOxR18rK')",
   "language": "python",
   "name": "python3"
  },
  "language_info": {
   "codemirror_mode": {
    "name": "ipython",
    "version": 3
   },
   "file_extension": ".py",
   "mimetype": "text/x-python",
   "name": "python",
   "nbconvert_exporter": "python",
   "pygments_lexer": "ipython3",
   "version": "3.9.13"
  },
  "orig_nbformat": 4,
  "vscode": {
   "interpreter": {
    "hash": "c79e4088d227ec38596042bb0116e2a52748b9fd0976467c629425f8895ee7f3"
   }
  }
 },
 "nbformat": 4,
 "nbformat_minor": 2
}
