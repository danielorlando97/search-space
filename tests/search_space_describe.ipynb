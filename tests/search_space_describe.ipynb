{
 "cells": [
  {
   "cell_type": "code",
   "execution_count": 1,
   "metadata": {},
   "outputs": [],
   "source": [
    "import sys\n",
    "# setting path\n",
    "sys.path.append('../src')"
   ]
  },
  {
   "cell_type": "code",
   "execution_count": 2,
   "metadata": {},
   "outputs": [],
   "source": [
    "from search_space import ContinueSearchSpace, NaturalSearchSpace, ObjectSearchSpace, UniversalVariable, CategoricalSearchSpace, BooleanSearchSpace"
   ]
  },
  {
   "cell_type": "code",
   "execution_count": 3,
   "metadata": {},
   "outputs": [
    {
     "ename": "TypeError",
     "evalue": "'!=' not supported between instances of 'NaturalSearchSpace' and 'str' ",
     "output_type": "error",
     "traceback": [
      "\u001b[0;31m---------------------------------------------------------------------------\u001b[0m",
      "\u001b[0;31mTypeError\u001b[0m                                 Traceback (most recent call last)",
      "\u001b[1;32m/Users/dany/src/school/tesis/search-space/tests/search_space_describe.ipynb Cell 3\u001b[0m in \u001b[0;36m<cell line: 20>\u001b[0;34m()\u001b[0m\n\u001b[1;32m     <a href='vscode-notebook-cell:/Users/dany/src/school/tesis/search-space/tests/search_space_describe.ipynb#ch0000002?line=16'>17</a>\u001b[0m     height \u001b[39m=\u001b[39m x \u001b[39m<<\u001b[39m ContinueSearchSpace(log_name\u001b[39m=\u001b[39m\u001b[39m\"\u001b[39m\u001b[39mDoor\u001b[39m\u001b[39m'\u001b[39m\u001b[39ms Height\u001b[39m\u001b[39m\"\u001b[39m)\n\u001b[1;32m     <a href='vscode-notebook-cell:/Users/dany/src/school/tesis/search-space/tests/search_space_describe.ipynb#ch0000002?line=17'>18</a>\u001b[0m     wight \u001b[39m=\u001b[39m x \u001b[39m<<\u001b[39m ContinueSearchSpace(log_name\u001b[39m=\u001b[39m\u001b[39m\"\u001b[39m\u001b[39mDoor\u001b[39m\u001b[39m'\u001b[39m\u001b[39ms Wight\u001b[39m\u001b[39m\"\u001b[39m) \u001b[39m|\u001b[39m (x \u001b[39m<\u001b[39m\u001b[39m=\u001b[39m height)\n\u001b[0;32m---> <a href='vscode-notebook-cell:/Users/dany/src/school/tesis/search-space/tests/search_space_describe.ipynb#ch0000002?line=19'>20</a>\u001b[0m \u001b[39mclass\u001b[39;00m \u001b[39mAlg\u001b[39;00m:\n\u001b[1;32m     <a href='vscode-notebook-cell:/Users/dany/src/school/tesis/search-space/tests/search_space_describe.ipynb#ch0000002?line=20'>21</a>\u001b[0m     InnerDoorParam \u001b[39m=\u001b[39m x \u001b[39m<<\u001b[39m DoorSearchSpace() \u001b[39m|\u001b[39m (x\u001b[39m.\u001b[39mheight \u001b[39m>\u001b[39m\u001b[39m=\u001b[39m \u001b[39m10\u001b[39m, x\u001b[39m.\u001b[39mheight \u001b[39m<\u001b[39m\u001b[39m=\u001b[39m \u001b[39m20\u001b[39m, x\u001b[39m.\u001b[39mwight \u001b[39m>\u001b[39m\u001b[39m=\u001b[39m \u001b[39m10\u001b[39m) \n\u001b[1;32m     <a href='vscode-notebook-cell:/Users/dany/src/school/tesis/search-space/tests/search_space_describe.ipynb#ch0000002?line=21'>22</a>\u001b[0m     ContinueParam \u001b[39m=\u001b[39m x \u001b[39m<<\u001b[39m ContinueSearchSpace() \u001b[39m|\u001b[39m (x \u001b[39m>\u001b[39m\u001b[39m=\u001b[39m InnerDoorParam\u001b[39m.\u001b[39mwight, x \u001b[39m<\u001b[39m\u001b[39m=\u001b[39m \u001b[39m3000\u001b[39m)\n",
      "\u001b[1;32m/Users/dany/src/school/tesis/search-space/tests/search_space_describe.ipynb Cell 3\u001b[0m in \u001b[0;36mAlg\u001b[0;34m()\u001b[0m\n\u001b[1;32m     <a href='vscode-notebook-cell:/Users/dany/src/school/tesis/search-space/tests/search_space_describe.ipynb#ch0000002?line=22'>23</a>\u001b[0m NaturalParam \u001b[39m=\u001b[39m x \u001b[39m<<\u001b[39m NaturalSearchSpace() \u001b[39m|\u001b[39m (\n\u001b[1;32m     <a href='vscode-notebook-cell:/Users/dany/src/school/tesis/search-space/tests/search_space_describe.ipynb#ch0000002?line=23'>24</a>\u001b[0m     \u001b[39m## conditionals\u001b[39;00m\n\u001b[1;32m     <a href='vscode-notebook-cell:/Users/dany/src/school/tesis/search-space/tests/search_space_describe.ipynb#ch0000002?line=24'>25</a>\u001b[0m     (InnerDoorParam\u001b[39m.\u001b[39mwight \u001b[39m>\u001b[39m \u001b[39m10\u001b[39m) \u001b[39m>>\u001b[39m (x \u001b[39m<\u001b[39m\u001b[39m=\u001b[39m ContinueParam), \n\u001b[1;32m     <a href='vscode-notebook-cell:/Users/dany/src/school/tesis/search-space/tests/search_space_describe.ipynb#ch0000002?line=25'>26</a>\u001b[0m     (InnerDoorParam\u001b[39m.\u001b[39mwight \u001b[39m<\u001b[39m \u001b[39m10\u001b[39m) \u001b[39m>>\u001b[39m (x \u001b[39m>\u001b[39m\u001b[39m=\u001b[39m \u001b[39m10000\u001b[39m), \n\u001b[1;32m     <a href='vscode-notebook-cell:/Users/dany/src/school/tesis/search-space/tests/search_space_describe.ipynb#ch0000002?line=26'>27</a>\u001b[0m )\n\u001b[1;32m     <a href='vscode-notebook-cell:/Users/dany/src/school/tesis/search-space/tests/search_space_describe.ipynb#ch0000002?line=27'>28</a>\u001b[0m BooleanParam \u001b[39m=\u001b[39m BooleanSearchSpace()\n\u001b[1;32m     <a href='vscode-notebook-cell:/Users/dany/src/school/tesis/search-space/tests/search_space_describe.ipynb#ch0000002?line=28'>29</a>\u001b[0m CategoricalParam \u001b[39m=\u001b[39m CategoricalSearchSpace([\u001b[39m'\u001b[39m\u001b[39mL1\u001b[39m\u001b[39m'\u001b[39m, \u001b[39m'\u001b[39m\u001b[39mL2\u001b[39m\u001b[39m'\u001b[39m, \u001b[39m'\u001b[39m\u001b[39mL3\u001b[39m\u001b[39m'\u001b[39m, \u001b[39m'\u001b[39m\u001b[39mL4\u001b[39m\u001b[39m'\u001b[39m]) \u001b[39m|\u001b[39m (\n\u001b[1;32m     <a href='vscode-notebook-cell:/Users/dany/src/school/tesis/search-space/tests/search_space_describe.ipynb#ch0000002?line=29'>30</a>\u001b[0m     \u001b[39m## conditionals\u001b[39;00m\n\u001b[0;32m---> <a href='vscode-notebook-cell:/Users/dany/src/school/tesis/search-space/tests/search_space_describe.ipynb#ch0000002?line=30'>31</a>\u001b[0m     (BooleanParam \u001b[39m==\u001b[39m \u001b[39mTrue\u001b[39;00m) \u001b[39m>>\u001b[39m (x \u001b[39m!=\u001b[39;49m \u001b[39m'\u001b[39;49m\u001b[39mL1\u001b[39;49m\u001b[39m'\u001b[39;49m), \n\u001b[1;32m     <a href='vscode-notebook-cell:/Users/dany/src/school/tesis/search-space/tests/search_space_describe.ipynb#ch0000002?line=31'>32</a>\u001b[0m     (ContinueParam \u001b[39m>\u001b[39m\u001b[39m=\u001b[39m \u001b[39m100\u001b[39m) \u001b[39m>>\u001b[39m (x \u001b[39m!=\u001b[39m \u001b[39m'\u001b[39m\u001b[39mL2\u001b[39m\u001b[39m'\u001b[39m), \n\u001b[1;32m     <a href='vscode-notebook-cell:/Users/dany/src/school/tesis/search-space/tests/search_space_describe.ipynb#ch0000002?line=32'>33</a>\u001b[0m     (NaturalParam \u001b[39m>\u001b[39m\u001b[39m=\u001b[39m \u001b[39m100\u001b[39m) \u001b[39m>>\u001b[39m (x \u001b[39m!=\u001b[39m \u001b[39m'\u001b[39m\u001b[39mL3\u001b[39m\u001b[39m'\u001b[39m), \n\u001b[1;32m     <a href='vscode-notebook-cell:/Users/dany/src/school/tesis/search-space/tests/search_space_describe.ipynb#ch0000002?line=33'>34</a>\u001b[0m )\n\u001b[1;32m     <a href='vscode-notebook-cell:/Users/dany/src/school/tesis/search-space/tests/search_space_describe.ipynb#ch0000002?line=35'>36</a>\u001b[0m \u001b[39mdef\u001b[39;00m \u001b[39m__init__\u001b[39m(\u001b[39mself\u001b[39m, \n\u001b[1;32m     <a href='vscode-notebook-cell:/Users/dany/src/school/tesis/search-space/tests/search_space_describe.ipynb#ch0000002?line=36'>37</a>\u001b[0m     param: ContinueParam, \n\u001b[1;32m     <a href='vscode-notebook-cell:/Users/dany/src/school/tesis/search-space/tests/search_space_describe.ipynb#ch0000002?line=37'>38</a>\u001b[0m     param2: NaturalParam, \n\u001b[0;32m   (...)\u001b[0m\n\u001b[1;32m     <a href='vscode-notebook-cell:/Users/dany/src/school/tesis/search-space/tests/search_space_describe.ipynb#ch0000002?line=40'>41</a>\u001b[0m     categorical: CategoricalParam\n\u001b[1;32m     <a href='vscode-notebook-cell:/Users/dany/src/school/tesis/search-space/tests/search_space_describe.ipynb#ch0000002?line=41'>42</a>\u001b[0m     ) \u001b[39m-\u001b[39m\u001b[39m>\u001b[39m \u001b[39mNone\u001b[39;00m:\n\u001b[1;32m     <a href='vscode-notebook-cell:/Users/dany/src/school/tesis/search-space/tests/search_space_describe.ipynb#ch0000002?line=42'>43</a>\u001b[0m     \u001b[39mpass\u001b[39;00m\n",
      "File \u001b[0;32m~/src/school/tesis/search-space/tests/../src/search_space/abstract_def.py:187\u001b[0m, in \u001b[0;36mUniversalVariable.__ne__\u001b[0;34m(self, other)\u001b[0m\n\u001b[1;32m    186\u001b[0m \u001b[39mdef\u001b[39;00m \u001b[39m__ne__\u001b[39m(\u001b[39mself\u001b[39m, other):\n\u001b[0;32m--> 187\u001b[0m     \u001b[39mreturn\u001b[39;00m \u001b[39mself\u001b[39;49m\u001b[39m.\u001b[39;49mss\u001b[39m.\u001b[39;49m_not_equal(other)\n",
      "File \u001b[0;32m~/src/school/tesis/search-space/tests/../src/search_space/abstract_def.py:75\u001b[0m, in \u001b[0;36mSearchSpace._not_equal\u001b[0;34m(self, other)\u001b[0m\n\u001b[1;32m     74\u001b[0m \u001b[39mdef\u001b[39;00m \u001b[39m_not_equal\u001b[39m(\u001b[39mself\u001b[39m, other):\n\u001b[0;32m---> 75\u001b[0m     \u001b[39mraise\u001b[39;00m \u001b[39mTypeError\u001b[39;00m(\n\u001b[1;32m     76\u001b[0m         \u001b[39mf\u001b[39m\u001b[39m\"\u001b[39m\u001b[39m'\u001b[39m\u001b[39m!=\u001b[39m\u001b[39m'\u001b[39m\u001b[39m not supported between instances of \u001b[39m\u001b[39m'\u001b[39m\u001b[39m{\u001b[39;00m\u001b[39mself\u001b[39m\u001b[39m.\u001b[39m\u001b[39m__class__\u001b[39m\u001b[39m.\u001b[39m\u001b[39m__name__\u001b[39m\u001b[39m}\u001b[39;00m\u001b[39m'\u001b[39m\u001b[39m and \u001b[39m\u001b[39m'\u001b[39m\u001b[39m{\u001b[39;00m\u001b[39mtype\u001b[39m(other)\u001b[39m.\u001b[39m\u001b[39m__name__\u001b[39m\u001b[39m}\u001b[39;00m\u001b[39m'\u001b[39m\u001b[39m \u001b[39m\u001b[39m\"\u001b[39m)\n",
      "\u001b[0;31mTypeError\u001b[0m: '!=' not supported between instances of 'NaturalSearchSpace' and 'str' "
     ]
    }
   ],
   "source": [
    "## FIXME supuse que en algun punto de la generacion se pueden listar todos los search space\n",
    "## FIXME los delegados tiene el scope padre de la clase\n",
    "\n",
    "\n",
    "## ✅✅  TODO: only struct with override is UniversalVariable\n",
    "## TODO: constraint condition \n",
    "## TODO: SearchSpace ListDomain\n",
    "## TODO: Conditional Constraint\n",
    "## TODO: List Monotypes Search \n",
    "## TODO: MultiTypeSpace\n",
    "## TODO: Check Type Constraint \n",
    "## TODO: Sampler Updates \n",
    "\n",
    "x = UniversalVariable()\n",
    "\n",
    "class DoorSearchSpace(ObjectSearchSpace):\n",
    "    height = x << ContinueSearchSpace(log_name=\"Door's Height\")\n",
    "    wight = x << ContinueSearchSpace(log_name=\"Door's Wight\") | (x <= height)\n",
    "\n",
    "class Alg:\n",
    "    InnerDoorParam = x << DoorSearchSpace() | (x.height >= 10, x.height <= 20, x.wight >= 10) \n",
    "    ContinueParam = x << ContinueSearchSpace() | (x >= InnerDoorParam.wight, x <= 3000)\n",
    "    NaturalParam = x << NaturalSearchSpace() | (\n",
    "        ## conditionals\n",
    "        (InnerDoorParam.wight > 10) >> (x <= ContinueParam), \n",
    "        (InnerDoorParam.wight < 10) >> (x >= 10000), \n",
    "    )\n",
    "    BooleanParam = x << BooleanSearchSpace()\n",
    "    CategoricalParam = x << CategoricalSearchSpace(['L1', 'L2', 'L3', 'L4']) | (\n",
    "        ## conditionals\n",
    "        (BooleanParam == True) >> (x != 'L1'), \n",
    "        (ContinueParam >= 100) >> (x != 'L2'), \n",
    "        (NaturalParam >= 100) >> (x != 'L3'), \n",
    "    )\n",
    "\n",
    "    def __init__(self, \n",
    "        param: ContinueParam, \n",
    "        param2: NaturalParam, \n",
    "        door: InnerDoorParam,\n",
    "        boolean: BooleanParam,\n",
    "        categorical: CategoricalParam\n",
    "        ) -> None:\n",
    "        pass"
   ]
  },
  {
   "cell_type": "code",
   "execution_count": null,
   "metadata": {},
   "outputs": [
    {
     "name": "stdout",
     "output_type": "stream",
     "text": [
      "Init with domain (0, 100000) in NaturalSearchSpace\n",
      "Init with domain (0, 100000) in Door's Wight\n",
      "Init with domain (0, 100000) in Door's Height\n",
      "Transformed domain (10, 20) in Door's Height\n",
      "Check conditions by sampler 12.090992476873518 in Door's Height\n",
      "Transformed domain (10, 12.090992476873518) in Door's Wight\n",
      "Check conditions by sampler 10.593967419487408 in Door's Wight\n",
      "Init with domain (0, 100000) in ContinueSearchSpace\n",
      "Transformed domain (10.593967419487408, 3000) in ContinueSearchSpace\n",
      "Check conditions by sampler 1310.708479121139 in ContinueSearchSpace\n",
      "Transformed domain (0, 1310.708479121139) in NaturalSearchSpace\n",
      "Check conditions by sampler 1059 in NaturalSearchSpace\n"
     ]
    },
    {
     "data": {
      "text/plain": [
       "1059"
      ]
     },
     "execution_count": 4,
     "metadata": {},
     "output_type": "execute_result"
    }
   ],
   "source": [
    "Alg.NaturalParam.get_sampler()"
   ]
  },
  {
   "cell_type": "code",
   "execution_count": null,
   "metadata": {},
   "outputs": [
    {
     "name": "stdout",
     "output_type": "stream",
     "text": [
      "Init with domain ['L1', 'L2', 'L3', 'L4'] in CategoricalSearchSpace\n",
      "Transformed domain ['L1', 'L2', 'L3', 'L4'] in CategoricalSearchSpace\n",
      "Check conditions by sampler L3 in CategoricalSearchSpace\n"
     ]
    },
    {
     "data": {
      "text/plain": [
       "'L3'"
      ]
     },
     "execution_count": 5,
     "metadata": {},
     "output_type": "execute_result"
    }
   ],
   "source": [
    "Alg.CategoricalParam.get_sampler()"
   ]
  },
  {
   "cell_type": "code",
   "execution_count": null,
   "metadata": {},
   "outputs": [],
   "source": []
  }
 ],
 "metadata": {
  "kernelspec": {
   "display_name": "Python 3.9.13 ('search-space-GOxR18rK')",
   "language": "python",
   "name": "python3"
  },
  "language_info": {
   "codemirror_mode": {
    "name": "ipython",
    "version": 3
   },
   "file_extension": ".py",
   "mimetype": "text/x-python",
   "name": "python",
   "nbconvert_exporter": "python",
   "pygments_lexer": "ipython3",
   "version": "3.9.13"
  },
  "orig_nbformat": 4,
  "vscode": {
   "interpreter": {
    "hash": "c79e4088d227ec38596042bb0116e2a52748b9fd0976467c629425f8895ee7f3"
   }
  }
 },
 "nbformat": 4,
 "nbformat_minor": 2
}
