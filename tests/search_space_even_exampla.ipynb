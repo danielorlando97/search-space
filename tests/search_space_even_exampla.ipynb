{
 "cells": [
  {
   "cell_type": "code",
   "execution_count": 1,
   "metadata": {},
   "outputs": [],
   "source": [
    "import sys\n",
    "# setting path\n",
    "sys.path.append('../src')"
   ]
  },
  {
   "cell_type": "code",
   "execution_count": 2,
   "metadata": {},
   "outputs": [],
   "source": [
    "from search_space import ContinueSearchSpace, NaturalSearchSpace, ObjectSearchSpace, Predication\n",
    "from search_space import UniversalVariable, CategoricalSearchSpace, BooleanSearchSpace, ContextManagerSearchSpace"
   ]
  },
  {
   "cell_type": "code",
   "execution_count": 3,
   "metadata": {},
   "outputs": [],
   "source": [
    "x = UniversalVariable()\n",
    "\n",
    "class IsPrime(Predication):\n",
    "    def __call__(self, x):\n",
    "        for i in range(2, int(x/2) + 1):\n",
    "            if x % i == 0:\n",
    "                break\n",
    "        else:\n",
    "            return True\n",
    "        return False\n",
    "        \n",
    "class Alg:\n",
    "    EvenParam = NaturalSearchSpace(0, 100, log_name=\"Even Number\") | Predication(x, lambda x: x%2 == 0)\n",
    "    PrimeParam = NaturalSearchSpace(log_name=\"Prime Number\") | (x > EvenParam, IsPrime(x))\n",
    "    \n",
    "    def __init__(self, even: EvenParam, prime: PrimeParam) -> None:\n",
    "        pass"
   ]
  },
  {
   "cell_type": "code",
   "execution_count": 5,
   "metadata": {},
   "outputs": [
    {
     "name": "stdout",
     "output_type": "stream",
     "text": [
      "Init with domain (0, 100000) in Prime Number\n",
      "Init with domain (0, 100) in Even Number\n",
      "Transformed domain (0, 100) in Even Number\n",
      "Check conditions by sampler 73 in Even Number\n",
      "Check conditions by sampler 14 in Even Number\n",
      "Transformed domain (14, 100000) in Prime Number\n",
      "Check conditions by sampler 24788 in Prime Number\n",
      "Check conditions by sampler 95592 in Prime Number\n",
      "Check conditions by sampler 329 in Prime Number\n",
      "Check conditions by sampler 61543 in Prime Number\n"
     ]
    },
    {
     "data": {
      "text/plain": [
       "61543"
      ]
     },
     "execution_count": 5,
     "metadata": {},
     "output_type": "execute_result"
    }
   ],
   "source": [
    "ContextManagerSearchSpace().reset()\n",
    "Alg.PrimeParam.get_sampler()"
   ]
  },
  {
   "cell_type": "code",
   "execution_count": null,
   "metadata": {},
   "outputs": [],
   "source": []
  }
 ],
 "metadata": {
  "kernelspec": {
   "display_name": "Python 3.9.13 ('search-space-GOxR18rK')",
   "language": "python",
   "name": "python3"
  },
  "language_info": {
   "codemirror_mode": {
    "name": "ipython",
    "version": 3
   },
   "file_extension": ".py",
   "mimetype": "text/x-python",
   "name": "python",
   "nbconvert_exporter": "python",
   "pygments_lexer": "ipython3",
   "version": "3.9.13"
  },
  "orig_nbformat": 4,
  "vscode": {
   "interpreter": {
    "hash": "c79e4088d227ec38596042bb0116e2a52748b9fd0976467c629425f8895ee7f3"
   }
  }
 },
 "nbformat": 4,
 "nbformat_minor": 2
}
