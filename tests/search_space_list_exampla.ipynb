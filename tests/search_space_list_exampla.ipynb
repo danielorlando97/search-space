{
 "cells": [
  {
   "cell_type": "code",
   "execution_count": 1,
   "metadata": {},
   "outputs": [],
   "source": [
    "import sys\n",
    "# setting path\n",
    "sys.path.append('../src')"
   ]
  },
  {
   "cell_type": "code",
   "execution_count": 2,
   "metadata": {},
   "outputs": [],
   "source": [
    "from search_space import ContinueSearchSpace, NaturalSearchSpace, ObjectSearchSpace, Predication, ListSearchSpace\n",
    "from search_space import UniversalVariable, CategoricalSearchSpace, BooleanSearchSpace, ContextManagerSearchSpace"
   ]
  },
  {
   "cell_type": "code",
   "execution_count": 3,
   "metadata": {},
   "outputs": [],
   "source": [
    "x = UniversalVariable()\n",
    "\n",
    "class Alg:\n",
    "    CategorySizeParam = NaturalSearchSpace(5, 10,  log_name=\"CategorySize\")\n",
    "    ListParam = ListSearchSpace(NaturalSearchSpace, 0, 10) | (\n",
    "        x.size <= CategorySizeParam, \n",
    "        x[x.i >= 5] >= CategorySizeParam, \n",
    "        x[x.i < 5] <= CategorySizeParam, \n",
    "        x[0] <= 2, \n",
    "    )\n",
    "    NaturalParam = NaturalSearchSpace(0, 7)\n",
    "    ContinueParam = ContinueSearchSpace(0, 100) | (\n",
    "        (ListParam.size > 7) >> (x < ListParam[NaturalParam]),\n",
    "        x > ListParam[5]\n",
    "    )\n",
    "    \n",
    "    def __init__(self, n: CategorySizeParam, select: ListParam) -> None:\n",
    "        pass"
   ]
  },
  {
   "cell_type": "code",
   "execution_count": 7,
   "metadata": {},
   "outputs": [
    {
     "name": "stdout",
     "output_type": "stream",
     "text": [
      "Init with domain (0, 100) in ContinueSearchSpace\n",
      "Init with domain (0, 100000) in List Size\n",
      "Init with domain (5, 10) in CategorySize\n",
      "Transformed domain (5, 10) in CategorySize\n",
      "Check conditions by sampler 7 in CategorySize\n",
      "Transformed domain (0, 7) in List Size\n",
      "Check conditions by sampler 5 in List Size\n",
      "Init with domain (0, 10) in Value Index 5\n",
      "Transformed domain (7, 10) in Value Index 5\n",
      "Check conditions by sampler 10 in Value Index 5\n",
      "Transformed domain (10, 100) in ContinueSearchSpace\n",
      "Check conditions by sampler 32.49047322459649 in ContinueSearchSpace\n"
     ]
    },
    {
     "data": {
      "text/plain": [
       "32.49047322459649"
      ]
     },
     "execution_count": 7,
     "metadata": {},
     "output_type": "execute_result"
    }
   ],
   "source": [
    "ContextManagerSearchSpace().reset()\n",
    "Alg.ContinueParam.get_sampler()"
   ]
  },
  {
   "cell_type": "code",
   "execution_count": 9,
   "metadata": {},
   "outputs": [
    {
     "name": "stdout",
     "output_type": "stream",
     "text": [
      "Init with domain None in ListSearchSpace\n",
      "Transformed domain None in ListSearchSpace\n"
     ]
    }
   ],
   "source": [
    "Alg.ListParam.get_sampler()"
   ]
  },
  {
   "cell_type": "code",
   "execution_count": null,
   "metadata": {},
   "outputs": [],
   "source": []
  }
 ],
 "metadata": {
  "kernelspec": {
   "display_name": "Python 3.9.13 ('search-space-GOxR18rK')",
   "language": "python",
   "name": "python3"
  },
  "language_info": {
   "codemirror_mode": {
    "name": "ipython",
    "version": 3
   },
   "file_extension": ".py",
   "mimetype": "text/x-python",
   "name": "python",
   "nbconvert_exporter": "python",
   "pygments_lexer": "ipython3",
   "version": "3.9.13"
  },
  "orig_nbformat": 4,
  "vscode": {
   "interpreter": {
    "hash": "c79e4088d227ec38596042bb0116e2a52748b9fd0976467c629425f8895ee7f3"
   }
  }
 },
 "nbformat": 4,
 "nbformat_minor": 2
}
