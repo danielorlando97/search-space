{
 "cells": [
  {
   "cell_type": "code",
   "execution_count": 1,
   "metadata": {},
   "outputs": [],
   "source": [
    "from search_space import distribution_names as df\n",
    "from search_space import NaturalSearchSpace as N\n",
    "from search_space import ContinueSearchSpace as R\n",
    "from search_space import UniversalVariable as x"
   ]
  },
  {
   "cell_type": "code",
   "execution_count": 5,
   "metadata": {},
   "outputs": [],
   "source": [
    "n1 = N(1,15)\n",
    "n = N(10, 100, distribute_like=df.UNIFORM) | (x >= 5*n1)\n",
    "# m = R(10, 100) | (x < n)"
   ]
  },
  {
   "cell_type": "code",
   "execution_count": 4,
   "metadata": {},
   "outputs": [
    {
     "ename": "ValueError",
     "evalue": "not enough values to unpack (expected 2, got 0)",
     "output_type": "error",
     "traceback": [
      "\u001b[0;31m---------------------------------------------------------------------------\u001b[0m",
      "\u001b[0;31mValueError\u001b[0m                                Traceback (most recent call last)",
      "\u001b[1;32m/Users/dany/src/school/tesis/search-space/_numeral_spaces.example.ipynb Cell 3\u001b[0m in \u001b[0;36m<cell line: 1>\u001b[0;34m()\u001b[0m\n\u001b[0;32m----> <a href='vscode-notebook-cell:/Users/dany/src/school/tesis/search-space/_numeral_spaces.example.ipynb#W2sZmlsZQ%3D%3D?line=0'>1</a>\u001b[0m value, _ \u001b[39m=\u001b[39m n\u001b[39m.\u001b[39;49mget_sampler()\n\u001b[1;32m      <a href='vscode-notebook-cell:/Users/dany/src/school/tesis/search-space/_numeral_spaces.example.ipynb#W2sZmlsZQ%3D%3D?line=1'>2</a>\u001b[0m value\n",
      "File \u001b[0;32m~/src/school/tesis/search-space/search_space/spaces/search_space.py:42\u001b[0m, in \u001b[0;36mSearchSpace.get_sampler\u001b[0;34m(self, local_domain, context)\u001b[0m\n\u001b[1;32m     39\u001b[0m context\u001b[39m.\u001b[39mpush_log(InitSamplerInfo(\u001b[39mself\u001b[39m, domain))\n\u001b[1;32m     41\u001b[0m \u001b[39mfor\u001b[39;00m c \u001b[39min\u001b[39;00m \u001b[39mself\u001b[39m\u001b[39m.\u001b[39mconstraint_list:\n\u001b[0;32m---> 42\u001b[0m     domain \u001b[39m=\u001b[39m \u001b[39mself\u001b[39;49m\u001b[39m.\u001b[39;49mtransform_domain(c, domain)\n\u001b[1;32m     44\u001b[0m \u001b[39mwhile\u001b[39;00m \u001b[39mTrue\u001b[39;00m:\n\u001b[1;32m     45\u001b[0m     sample \u001b[39m=\u001b[39m \u001b[39mself\u001b[39m\u001b[39m.\u001b[39m_get_random_value(domain)\n",
      "File \u001b[0;32m~/src/school/tesis/search-space/search_space/utils/visitor.py:24\u001b[0m, in \u001b[0;36mwhen.<locals>.f.<locals>.ff\u001b[0;34m(*args, **kw)\u001b[0m\n\u001b[1;32m     23\u001b[0m \u001b[39mdef\u001b[39;00m \u001b[39mff\u001b[39m(\u001b[39m*\u001b[39margs, \u001b[39m*\u001b[39m\u001b[39m*\u001b[39mkw):\n\u001b[0;32m---> 24\u001b[0m     \u001b[39mreturn\u001b[39;00m dispatcher(\u001b[39m*\u001b[39;49margs, \u001b[39m*\u001b[39;49m\u001b[39m*\u001b[39;49mkw)\n",
      "File \u001b[0;32m~/src/school/tesis/search-space/search_space/utils/visitor.py:42\u001b[0m, in \u001b[0;36mDispatcher.__call__\u001b[0;34m(self, *args, **kw)\u001b[0m\n\u001b[1;32m     40\u001b[0m d \u001b[39m=\u001b[39m \u001b[39mself\u001b[39m\u001b[39m.\u001b[39mtargets\u001b[39m.\u001b[39mget(typ)\n\u001b[1;32m     41\u001b[0m \u001b[39mif\u001b[39;00m d \u001b[39mis\u001b[39;00m \u001b[39mnot\u001b[39;00m \u001b[39mNone\u001b[39;00m:\n\u001b[0;32m---> 42\u001b[0m     \u001b[39mreturn\u001b[39;00m d(\u001b[39m*\u001b[39;49margs, \u001b[39m*\u001b[39;49m\u001b[39m*\u001b[39;49mkw)\n\u001b[1;32m     43\u001b[0m \u001b[39melse\u001b[39;00m:\n\u001b[1;32m     44\u001b[0m     issub \u001b[39m=\u001b[39m \u001b[39missubclass\u001b[39m\n",
      "File \u001b[0;32m~/src/school/tesis/search-space/search_space/spaces/build_in_spaces/numeral_search_space.py:61\u001b[0m, in \u001b[0;36mNumeralSearchSpace.transform_domain\u001b[0;34m(self, constraint, domain)\u001b[0m\n\u001b[1;32m     59\u001b[0m \u001b[39m@visitor\u001b[39m\u001b[39m.\u001b[39mwhen(N_AST\u001b[39m.\u001b[39mGreatEqualNumeralConstraint)\n\u001b[1;32m     60\u001b[0m \u001b[39mdef\u001b[39;00m \u001b[39mtransform_domain\u001b[39m(\u001b[39mself\u001b[39m, constraint: N_AST\u001b[39m.\u001b[39mGreatEqualNumeralConstraint, domain):\n\u001b[0;32m---> 61\u001b[0m     a, b \u001b[39m=\u001b[39m \u001b[39mself\u001b[39m\u001b[39m.\u001b[39mtransform_domain(constraint\u001b[39m.\u001b[39mtarget, domain)\n\u001b[1;32m     62\u001b[0m     \u001b[39mreturn\u001b[39;00m (\u001b[39mmax\u001b[39m(a, \u001b[39mself\u001b[39m\u001b[39m.\u001b[39m_real_value), b)\n",
      "\u001b[0;31mValueError\u001b[0m: not enough values to unpack (expected 2, got 0)"
     ]
    }
   ],
   "source": [
    "value, _ = n.get_sampler()\n",
    "value"
   ]
  },
  {
   "cell_type": "code",
   "execution_count": null,
   "metadata": {},
   "outputs": [
    {
     "data": {
      "text/plain": [
       "13.480514794182863"
      ]
     },
     "execution_count": 4,
     "metadata": {},
     "output_type": "execute_result"
    }
   ],
   "source": [
    "value, _ = m.get_sampler()\n",
    "value"
   ]
  },
  {
   "cell_type": "code",
   "execution_count": null,
   "metadata": {},
   "outputs": [
    {
     "name": "stdout",
     "output_type": "stream",
     "text": [
      "34.363133773541385 < 60 > 11\n"
     ]
    }
   ],
   "source": [
    "nv, context = n.get_sampler()\n",
    "mv, _ = m.get_sampler(context=context)\n",
    "n1v, _ = n1.get_sampler(context=context)\n",
    "print(mv, '<', nv, '>', n1v)"
   ]
  },
  {
   "cell_type": "code",
   "execution_count": null,
   "metadata": {},
   "outputs": [
    {
     "name": "stdout",
     "output_type": "stream",
     "text": [
      "51.75878045548225 = 25.758780455482253 + 26 | 25.758780455482253 < 26\n"
     ]
    }
   ],
   "source": [
    "k = m + n\n",
    "kv, context = k.get_sampler()\n",
    "nv, _ = n.get_sampler(context=context)\n",
    "mv, _ = m.get_sampler(context=context)\n",
    "\n",
    "print(kv, '=', mv, '+', nv, '|', mv, '<', nv)"
   ]
  },
  {
   "cell_type": "code",
   "execution_count": null,
   "metadata": {},
   "outputs": [
    {
     "name": "stdout",
     "output_type": "stream",
     "text": [
      "104.46182754700351\n"
     ]
    }
   ],
   "source": [
    "k = m + n + 2 + n + 4 + m\n",
    "kv, context = k.get_sampler()\n",
    "print(kv)"
   ]
  },
  {
   "cell_type": "code",
   "execution_count": null,
   "metadata": {},
   "outputs": [
    {
     "name": "stdout",
     "output_type": "stream",
     "text": [
      "Sampler in ContinueSearchSpace[(10, 100)]:\n",
      "\tSampler in NaturalSearchSpace[(10, 100)]:\n",
      "\t\tSampler in NaturalSearchSpace[(1, 15)]:\n",
      "\t\t\tNaturalSearchSpace[(1, 15)] ---> 10.191108639289384 ---> 10\n",
      "\t\tNaturalSearchSpace[(10, 100)] ---> GreatEqual ---> (10, 100)\n",
      "\t\tNaturalSearchSpace[(10, 100)] ---> 39.10307619161201 ---> 39\n",
      "\tContinueSearchSpace[(10, 100)] ---> Less ---> (10, 39)\n",
      "\tContinueSearchSpace[10.230913773501753] ---> Less ---> True\n",
      "\tContinueSearchSpace[(10, 39)] ---> 10.230913773501753 ---> 10.230913773501753\n",
      "None\n"
     ]
    }
   ],
   "source": [
    "print(context.print_history())"
   ]
  },
  {
   "cell_type": "code",
   "execution_count": null,
   "metadata": {},
   "outputs": [
    {
     "name": "stdout",
     "output_type": "stream",
     "text": [
      "191.4162754576647\n",
      "18\n",
      "Sampler in NaturalSearchSpace[(1, 15)]:\n",
      "\tNaturalSearchSpace[(1, 15)] ---> 4.318846197768634 ---> 4\n",
      "Sampler in ContinueSearchSpace[(10, 100)]:\n",
      "\tSampler in NaturalSearchSpace[(10, 100)]:\n",
      "\t\tNaturalSearchSpace[(10, 100)] ---> GreatEqual ---> (10, 100)\n",
      "\t\tNaturalSearchSpace[(10, 100)] ---> 53.90242579473662 ---> 54\n",
      "\tContinueSearchSpace[(10, 100)] ---> Less ---> (10, 54)\n",
      "\tContinueSearchSpace[38.70813772883237] ---> Less ---> True\n",
      "\tContinueSearchSpace[(10, 54)] ---> 38.70813772883237 ---> 38.70813772883237\n"
     ]
    }
   ],
   "source": [
    "from search_space import Function\n",
    "\n",
    "class Factorial(Function):\n",
    "    def __call__(self, n: float):\n",
    "        result = 1\n",
    "        for i in range(2, int(n+1)):\n",
    "            result *= i\n",
    "        return result\n",
    "\n",
    "\n",
    "k_factorial = Factorial(n1) - Factorial(n1-1)\n",
    "kfv, context = k_factorial.get_sampler()\n",
    "kv, _ = k.get_sampler(context=context)\n",
    "print(kv)\n",
    "print(kfv)\n",
    "context.print_history()"
   ]
  },
  {
   "cell_type": "code",
   "execution_count": null,
   "metadata": {},
   "outputs": [],
   "source": []
  }
 ],
 "metadata": {
  "kernelspec": {
   "display_name": "Python 3.9.13 ('search-space-GOxR18rK')",
   "language": "python",
   "name": "python3"
  },
  "language_info": {
   "codemirror_mode": {
    "name": "ipython",
    "version": 3
   },
   "file_extension": ".py",
   "mimetype": "text/x-python",
   "name": "python",
   "nbconvert_exporter": "python",
   "pygments_lexer": "ipython3",
   "version": "3.9.13"
  },
  "orig_nbformat": 4,
  "vscode": {
   "interpreter": {
    "hash": "c79e4088d227ec38596042bb0116e2a52748b9fd0976467c629425f8895ee7f3"
   }
  }
 },
 "nbformat": 4,
 "nbformat_minor": 2
}
