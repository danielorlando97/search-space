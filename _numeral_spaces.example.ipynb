{
 "cells": [
  {
   "cell_type": "code",
   "execution_count": 1,
   "metadata": {},
   "outputs": [],
   "source": [
    "from search_space import distribution_names as df\n",
    "from search_space import NaturalSearchSpace as N\n",
    "from search_space import ContinueSearchSpace as R\n",
    "from search_space import UniversalVariable as x"
   ]
  },
  {
   "cell_type": "code",
   "execution_count": 2,
   "metadata": {},
   "outputs": [],
   "source": [
    "n = N(10, 100, distribute_like=df.UNIFORM) | (x >= 5*15)\n",
    "m = R(10, 100) | (x < n)"
   ]
  },
  {
   "cell_type": "code",
   "execution_count": 3,
   "metadata": {},
   "outputs": [
    {
     "data": {
      "text/plain": [
       "(94,\n",
       " <search_space.context_manager.sampler_context.SamplerContext at 0x10475f220>)"
      ]
     },
     "execution_count": 3,
     "metadata": {},
     "output_type": "execute_result"
    }
   ],
   "source": [
    "n.get_sampler()"
   ]
  },
  {
   "cell_type": "code",
   "execution_count": 4,
   "metadata": {},
   "outputs": [
    {
     "data": {
      "text/plain": [
       "(62.98758164250046,\n",
       " <search_space.context_manager.sampler_context.SamplerContext at 0x104873310>)"
      ]
     },
     "execution_count": 4,
     "metadata": {},
     "output_type": "execute_result"
    }
   ],
   "source": [
    "m.get_sampler()"
   ]
  },
  {
   "cell_type": "code",
   "execution_count": 12,
   "metadata": {},
   "outputs": [
    {
     "name": "stdout",
     "output_type": "stream",
     "text": [
      "77.62047888244138 < 87\n"
     ]
    }
   ],
   "source": [
    "nv, context = n.get_sampler()\n",
    "mv, _ = m.get_sampler(context=context)\n",
    "print(mv, '<', nv)"
   ]
  },
  {
   "cell_type": "code",
   "execution_count": null,
   "metadata": {},
   "outputs": [],
   "source": []
  }
 ],
 "metadata": {
  "kernelspec": {
   "display_name": "Python 3.9.13 ('search-space-GOxR18rK')",
   "language": "python",
   "name": "python3"
  },
  "language_info": {
   "codemirror_mode": {
    "name": "ipython",
    "version": 3
   },
   "file_extension": ".py",
   "mimetype": "text/x-python",
   "name": "python",
   "nbconvert_exporter": "python",
   "pygments_lexer": "ipython3",
   "version": "3.9.13"
  },
  "orig_nbformat": 4,
  "vscode": {
   "interpreter": {
    "hash": "c79e4088d227ec38596042bb0116e2a52748b9fd0976467c629425f8895ee7f3"
   }
  }
 },
 "nbformat": 4,
 "nbformat_minor": 2
}
