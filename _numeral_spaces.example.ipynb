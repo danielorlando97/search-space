{
 "cells": [
  {
   "cell_type": "code",
   "execution_count": 1,
   "metadata": {},
   "outputs": [],
   "source": [
    "from search_space import distribution_names as df\n",
    "from search_space import NaturalSearchSpace as N\n",
    "from search_space import ContinueSearchSpace as R\n",
    "from search_space import UniversalVariable as x"
   ]
  },
  {
   "cell_type": "code",
   "execution_count": 2,
   "metadata": {},
   "outputs": [],
   "source": [
    "n1 = N(1,15)\n",
    "n = N(10, 100, distribute_like=df.UNIFORM) | (x >= 5*n1)\n",
    "m = N(10, 100) | (n-2 < x, x > n)"
   ]
  },
  {
   "cell_type": "code",
   "execution_count": 3,
   "metadata": {},
   "outputs": [
    {
     "data": {
      "text/plain": [
       "72"
      ]
     },
     "execution_count": 3,
     "metadata": {},
     "output_type": "execute_result"
    }
   ],
   "source": [
    "value, context = n.get_sampler()\n",
    "value"
   ]
  },
  {
   "cell_type": "code",
   "execution_count": 4,
   "metadata": {},
   "outputs": [
    {
     "data": {
      "text/plain": [
       "95"
      ]
     },
     "execution_count": 4,
     "metadata": {},
     "output_type": "execute_result"
    }
   ],
   "source": [
    "value, _ = m.get_sampler()\n",
    "value"
   ]
  },
  {
   "cell_type": "code",
   "execution_count": 5,
   "metadata": {},
   "outputs": [
    {
     "name": "stdout",
     "output_type": "stream",
     "text": [
      "72 < 59 > 3\n"
     ]
    }
   ],
   "source": [
    "nv, context = n.get_sampler()\n",
    "mv, _ = m.get_sampler(context=context)\n",
    "n1v, _ = n1.get_sampler(context=context)\n",
    "print(mv, '<', nv, '>', n1v)"
   ]
  },
  {
   "cell_type": "code",
   "execution_count": 6,
   "metadata": {},
   "outputs": [
    {
     "name": "stdout",
     "output_type": "stream",
     "text": [
      "95 = 63 + 32 | 63 < 32\n"
     ]
    }
   ],
   "source": [
    "k = m + n\n",
    "kv, context = k.get_sampler()\n",
    "nv, _ = n.get_sampler(context=context)\n",
    "mv, _ = m.get_sampler(context=context)\n",
    "\n",
    "print(kv, '=', mv, '+', nv, '|', mv, '<', nv)"
   ]
  },
  {
   "cell_type": "code",
   "execution_count": 7,
   "metadata": {},
   "outputs": [
    {
     "name": "stdout",
     "output_type": "stream",
     "text": [
      "274\n"
     ]
    }
   ],
   "source": [
    "k = m + n + 2 + n + 4 + m\n",
    "kv, context = k.get_sampler()\n",
    "print(kv)"
   ]
  },
  {
   "cell_type": "code",
   "execution_count": 8,
   "metadata": {},
   "outputs": [
    {
     "name": "stdout",
     "output_type": "stream",
     "text": [
      "Sampler in NaturalSearchSpace[(10, 100)]:\n",
      "\tSampler in NaturalSearchSpace[(10, 100)]:\n",
      "\t\tSampler in NaturalSearchSpace[(1, 15)]:\n",
      "\t\t\tNaturalSearchSpace[(1, 15)] ---> 11.485438890681262 ---> 11\n",
      "\t\tTransform[GreatEqual]: (10, 100) ---> (55, 100)\n",
      "\t\tNaturalSearchSpace[(55, 100)] ---> 60.67454180366862 ---> 61\n",
      "\tTransform[Great]: (10, 100) ---> (59, 100)\n",
      "\tTransform[Great]: (59, 100) ---> (61, 100)\n",
      "\tNaturalSearchSpace[(61, 100)] ---> 73.00573745111024 ---> 73\n"
     ]
    }
   ],
   "source": [
    "context.print_history()"
   ]
  },
  {
   "cell_type": "code",
   "execution_count": 10,
   "metadata": {},
   "outputs": [
    {
     "name": "stdout",
     "output_type": "stream",
     "text": [
      "342\n",
      "96\n",
      "Sampler in NaturalSearchSpace[(1, 15)]:\n",
      "\tNaturalSearchSpace[(1, 15)] ---> 4.712011682471966 ---> 5\n",
      "Sampler in NaturalSearchSpace[(10, 100)]:\n",
      "\tSampler in NaturalSearchSpace[(10, 100)]:\n",
      "\t\tTransform[GreatEqual]: (10, 100) ---> (25, 100)\n",
      "\t\tNaturalSearchSpace[(25, 100)] ---> 78.13744729812177 ---> 78\n",
      "\tTransform[Great]: (10, 100) ---> (76, 100)\n",
      "\tTransform[Great]: (76, 100) ---> (78, 100)\n",
      "\tNaturalSearchSpace[(78, 100)] ---> 90.31162383613366 ---> 90\n"
     ]
    }
   ],
   "source": [
    "from search_space import Function\n",
    "\n",
    "class Factorial(Function):\n",
    "    def __call__(self, n: float):\n",
    "        result = 1\n",
    "        for i in range(2, int(n+1)):\n",
    "            result *= i\n",
    "        return result\n",
    "\n",
    "\n",
    "k_factorial = Factorial(n1) - Factorial(n1-1)\n",
    "kfv, context = k_factorial.get_sampler()\n",
    "kv, _ = k.get_sampler(context=context)\n",
    "print(kv)\n",
    "print(kfv)\n",
    "context.print_history()"
   ]
  },
  {
   "cell_type": "code",
   "execution_count": 17,
   "metadata": {},
   "outputs": [
    {
     "ename": "KeyboardInterrupt",
     "evalue": "",
     "output_type": "error",
     "traceback": [
      "\u001b[0;31m---------------------------------------------------------------------------\u001b[0m",
      "\u001b[0;31mKeyboardInterrupt\u001b[0m                         Traceback (most recent call last)",
      "\u001b[1;32m/Users/dany/src/school/tesis/search-space/_numeral_spaces.example.ipynb Cell 10\u001b[0m in \u001b[0;36m<cell line: 5>\u001b[0;34m()\u001b[0m\n\u001b[1;32m      <a href='vscode-notebook-cell:/Users/dany/src/school/tesis/search-space/_numeral_spaces.example.ipynb#X12sZmlsZQ%3D%3D?line=4'>5</a>\u001b[0m \u001b[39mfor\u001b[39;00m _ \u001b[39min\u001b[39;00m \u001b[39mrange\u001b[39m(\u001b[39m100\u001b[39m):\n\u001b[1;32m      <a href='vscode-notebook-cell:/Users/dany/src/school/tesis/search-space/_numeral_spaces.example.ipynb#X12sZmlsZQ%3D%3D?line=5'>6</a>\u001b[0m     nv, context \u001b[39m=\u001b[39m n\u001b[39m.\u001b[39mget_sampler()\n\u001b[0;32m----> <a href='vscode-notebook-cell:/Users/dany/src/school/tesis/search-space/_numeral_spaces.example.ipynb#X12sZmlsZQ%3D%3D?line=6'>7</a>\u001b[0m     mv, _ \u001b[39m=\u001b[39m m\u001b[39m.\u001b[39;49mget_sampler(context)\n",
      "File \u001b[0;32m~/src/school/tesis/search-space/search_space/spaces/search_space.py:67\u001b[0m, in \u001b[0;36mSearchSpace.get_sampler\u001b[0;34m(self, context, local_domain)\u001b[0m\n\u001b[1;32m     65\u001b[0m \u001b[39mtry\u001b[39;00m:\n\u001b[1;32m     66\u001b[0m     \u001b[39mfor\u001b[39;00m ast \u001b[39min\u001b[39;00m \u001b[39mself\u001b[39m\u001b[39m.\u001b[39mconstraint_list:\n\u001b[0;32m---> 67\u001b[0m         domain \u001b[39m=\u001b[39m domain\u001b[39m.\u001b[39;49mcheck_sampler(ast, sample, context)\n\u001b[1;32m     69\u001b[0m     context\u001b[39m.\u001b[39mregistry_sampler(\u001b[39mself\u001b[39m, sample)\n\u001b[1;32m     70\u001b[0m     context\u001b[39m.\u001b[39mpush_log(SamplerInfo(\n\u001b[1;32m     71\u001b[0m         \u001b[39mself\u001b[39m, domain\u001b[39m.\u001b[39mlimits,\n\u001b[1;32m     72\u001b[0m         \u001b[39mNone\u001b[39;00m \u001b[39mif\u001b[39;00m \u001b[39mself\u001b[39m\u001b[39m.\u001b[39m_distribution \u001b[39mis\u001b[39;00m \u001b[39mNone\u001b[39;00m \u001b[39melse\u001b[39;00m \u001b[39mself\u001b[39m\u001b[39m.\u001b[39m_distribution\u001b[39m.\u001b[39mlast_value(domain\u001b[39m.\u001b[39mlimits), sample))\n",
      "File \u001b[0;32m~/src/school/tesis/search-space/search_space/utils/visitor.py:25\u001b[0m, in \u001b[0;36mwhen.<locals>.f.<locals>.ff\u001b[0;34m(*args, **kw)\u001b[0m\n\u001b[1;32m     22\u001b[0m     dispatcher \u001b[39m=\u001b[39m dispatcher\u001b[39m.\u001b[39mdispatcher\n\u001b[1;32m     23\u001b[0m dispatcher\u001b[39m.\u001b[39madd_target(param_type, fn)\n\u001b[0;32m---> 25\u001b[0m \u001b[39mdef\u001b[39;00m \u001b[39mff\u001b[39m(\u001b[39m*\u001b[39margs, \u001b[39m*\u001b[39m\u001b[39m*\u001b[39mkw):\n\u001b[1;32m     26\u001b[0m     \u001b[39mreturn\u001b[39;00m dispatcher(\u001b[39m*\u001b[39margs, \u001b[39m*\u001b[39m\u001b[39m*\u001b[39mkw)\n\u001b[1;32m     27\u001b[0m ff\u001b[39m.\u001b[39mdispatcher \u001b[39m=\u001b[39m dispatcher\n",
      "File \u001b[0;32m~/.local/share/virtualenvs/search-space-GOxR18rK/lib/python3.9/site-packages/debugpy/_vendored/pydevd/_pydevd_bundle/pydevd_trace_dispatch_regular.py:353\u001b[0m, in \u001b[0;36mThreadTracer.__call__\u001b[0;34m(self, frame, event, arg)\u001b[0m\n\u001b[1;32m    339\u001b[0m \u001b[39m# IFDEF CYTHON\u001b[39;00m\n\u001b[1;32m    340\u001b[0m \u001b[39m# cdef str filename;\u001b[39;00m\n\u001b[1;32m    341\u001b[0m \u001b[39m# cdef str base;\u001b[39;00m\n\u001b[0;32m   (...)\u001b[0m\n\u001b[1;32m    350\u001b[0m \u001b[39m# DEBUG = 'code_to_debug' in frame.f_code.co_filename\u001b[39;00m\n\u001b[1;32m    351\u001b[0m \u001b[39m# if DEBUG: print('ENTER: trace_dispatch: %s %s %s %s' % (frame.f_code.co_filename, frame.f_lineno, event, frame.f_code.co_name))\u001b[39;00m\n\u001b[1;32m    352\u001b[0m py_db, t, additional_info, cache_skips, frame_skips_cache \u001b[39m=\u001b[39m \u001b[39mself\u001b[39m\u001b[39m.\u001b[39m_args\n\u001b[0;32m--> 353\u001b[0m \u001b[39mif\u001b[39;00m additional_info\u001b[39m.\u001b[39mis_tracing:\n\u001b[1;32m    354\u001b[0m     \u001b[39mreturn\u001b[39;00m \u001b[39mNone\u001b[39;00m \u001b[39mif\u001b[39;00m event \u001b[39m==\u001b[39m \u001b[39m'\u001b[39m\u001b[39mcall\u001b[39m\u001b[39m'\u001b[39m \u001b[39melse\u001b[39;00m NO_FTRACE  \u001b[39m# we don't wan't to trace code invoked from pydevd_frame.trace_dispatch\u001b[39;00m\n\u001b[1;32m    356\u001b[0m additional_info\u001b[39m.\u001b[39mis_tracing \u001b[39m+\u001b[39m\u001b[39m=\u001b[39m \u001b[39m1\u001b[39m\n",
      "\u001b[0;31mKeyboardInterrupt\u001b[0m: "
     ]
    }
   ],
   "source": [
    "validate_replay_count = 100\n",
    "\"\"\"Real Space Test\"\"\"\n",
    "n = R() | (x < 5)\n",
    "for _ in range(validate_replay_count):\n",
    "    value, _ = n.get_sampler()\n",
    "    assert value < 5\n",
    "\"\"\"Natural Space Test\"\"\"\n",
    "n = N() | (x < 5)\n",
    "for _ in range(validate_replay_count):\n",
    "    value, _ = n.get_sampler()\n",
    "    assert value < 5\n",
    "\"\"\"Context Sensitive Test\"\"\"\n",
    "n = N() | (1 < x, x < 10)\n",
    "m = R() | (x < n)\n",
    "for _ in range(validate_replay_count):\n",
    "    nv, context = n.get_sampler()\n",
    "    mv, _ = m.get_sampler(context)\n",
    "    assert nv < 10\n",
    "    assert mv < nv\n"
   ]
  },
  {
   "cell_type": "code",
   "execution_count": null,
   "metadata": {},
   "outputs": [],
   "source": []
  }
 ],
 "metadata": {
  "kernelspec": {
   "display_name": "Python 3.9.13 ('search-space-GOxR18rK')",
   "language": "python",
   "name": "python3"
  },
  "language_info": {
   "codemirror_mode": {
    "name": "ipython",
    "version": 3
   },
   "file_extension": ".py",
   "mimetype": "text/x-python",
   "name": "python",
   "nbconvert_exporter": "python",
   "pygments_lexer": "ipython3",
   "version": "3.9.13"
  },
  "orig_nbformat": 4,
  "vscode": {
   "interpreter": {
    "hash": "c79e4088d227ec38596042bb0116e2a52748b9fd0976467c629425f8895ee7f3"
   }
  }
 },
 "nbformat": 4,
 "nbformat_minor": 2
}
