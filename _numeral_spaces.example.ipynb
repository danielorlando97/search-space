{
 "cells": [
  {
   "cell_type": "code",
   "execution_count": 1,
   "metadata": {},
   "outputs": [],
   "source": [
    "from search_space import distribution_names as df\n",
    "from search_space import NaturalSearchSpace as N\n",
    "from search_space import ContinueSearchSpace as R\n",
    "from search_space import UniversalVariable as x"
   ]
  },
  {
   "cell_type": "code",
   "execution_count": 2,
   "metadata": {},
   "outputs": [],
   "source": [
    "n1 = N(1,15)\n",
    "n = N(10, 100, distribute_like=df.UNIFORM) | (x >= 5*n1)\n",
    "m = N(10, 100) | (n-2 < x, x > n)"
   ]
  },
  {
   "cell_type": "code",
   "execution_count": 3,
   "metadata": {},
   "outputs": [
    {
     "data": {
      "text/plain": [
       "88"
      ]
     },
     "execution_count": 3,
     "metadata": {},
     "output_type": "execute_result"
    }
   ],
   "source": [
    "value, context = n.get_sampler()\n",
    "value"
   ]
  },
  {
   "cell_type": "code",
   "execution_count": 4,
   "metadata": {},
   "outputs": [],
   "source": [
    "value, _ = m.get_sampler()\n",
    "value"
   ]
  },
  {
   "cell_type": "code",
   "execution_count": null,
   "metadata": {},
   "outputs": [
    {
     "name": "stdout",
     "output_type": "stream",
     "text": [
      "91 < 32 > 3\n"
     ]
    }
   ],
   "source": [
    "nv, context = n.get_sampler()\n",
    "mv, _ = m.get_sampler(context=context)\n",
    "n1v, _ = n1.get_sampler(context=context)\n",
    "print(mv, '<', nv, '>', n1v)"
   ]
  },
  {
   "cell_type": "code",
   "execution_count": null,
   "metadata": {},
   "outputs": [
    {
     "name": "stdout",
     "output_type": "stream",
     "text": [
      "159 = 73 + 86 | 73 < 86\n"
     ]
    }
   ],
   "source": [
    "k = m + n\n",
    "kv, context = k.get_sampler()\n",
    "nv, _ = n.get_sampler(context=context)\n",
    "mv, _ = m.get_sampler(context=context)\n",
    "\n",
    "print(kv, '=', mv, '+', nv, '|', mv, '<', nv)"
   ]
  },
  {
   "cell_type": "code",
   "execution_count": null,
   "metadata": {},
   "outputs": [
    {
     "name": "stdout",
     "output_type": "stream",
     "text": [
      "366\n"
     ]
    }
   ],
   "source": [
    "k = m + n + 2 + n + 4 + m\n",
    "kv, context = k.get_sampler()\n",
    "print(kv)"
   ]
  },
  {
   "cell_type": "code",
   "execution_count": null,
   "metadata": {},
   "outputs": [
    {
     "name": "stdout",
     "output_type": "stream",
     "text": [
      "Sampler in NaturalSearchSpace[(10, 100)]:\n",
      "\tNaturalSearchSpace[(10, 100)] ---> 99.52626005023406 ---> 100\n",
      "Sampler in NaturalSearchSpace[(10, 100)]:\n",
      "\tSampler in NaturalSearchSpace[(1, 15)]:\n",
      "\t\tNaturalSearchSpace[(1, 15)] ---> 4.147668529071761 ---> 4\n",
      "\tTransform[GreatEqual]: (10, 100) ---> (20, 100)\n",
      "\tNaturalSearchSpace[(20, 100)] ---> 79.52873240064903 ---> 80\n"
     ]
    }
   ],
   "source": [
    "context.print_history()"
   ]
  },
  {
   "cell_type": "code",
   "execution_count": null,
   "metadata": {},
   "outputs": [
    {
     "name": "stdout",
     "output_type": "stream",
     "text": [
      "104\n",
      "4\n",
      "Sampler in NaturalSearchSpace[(1, 15)]:\n",
      "\tNaturalSearchSpace[(1, 15)] ---> 2.611601067143214 ---> 3\n",
      "Sampler in NaturalSearchSpace[(10, 100)]:\n",
      "\tNaturalSearchSpace[(10, 100)] ---> 32.369103632694525 ---> 32\n",
      "Sampler in NaturalSearchSpace[(10, 100)]:\n",
      "\tTransform[GreatEqual]: (10, 100) ---> (15, 100)\n",
      "\tNaturalSearchSpace[(15, 100)] ---> 17.13755697571747 ---> 17\n"
     ]
    }
   ],
   "source": [
    "from search_space import Function\n",
    "\n",
    "class Factorial(Function):\n",
    "    def __call__(self, n: float):\n",
    "        result = 1\n",
    "        for i in range(2, int(n+1)):\n",
    "            result *= i\n",
    "        return result\n",
    "\n",
    "\n",
    "k_factorial = Factorial(n1) - Factorial(n1-1)\n",
    "kfv, context = k_factorial.get_sampler()\n",
    "kv, _ = k.get_sampler(context=context)\n",
    "print(kv)\n",
    "print(kfv)\n",
    "context.print_history()"
   ]
  },
  {
   "cell_type": "code",
   "execution_count": null,
   "metadata": {},
   "outputs": [],
   "source": []
  }
 ],
 "metadata": {
  "kernelspec": {
   "display_name": "Python 3.9.13 ('search-space-GOxR18rK')",
   "language": "python",
   "name": "python3"
  },
  "language_info": {
   "codemirror_mode": {
    "name": "ipython",
    "version": 3
   },
   "file_extension": ".py",
   "mimetype": "text/x-python",
   "name": "python",
   "nbconvert_exporter": "python",
   "pygments_lexer": "ipython3",
   "version": "3.9.13"
  },
  "orig_nbformat": 4,
  "vscode": {
   "interpreter": {
    "hash": "c79e4088d227ec38596042bb0116e2a52748b9fd0976467c629425f8895ee7f3"
   }
  }
 },
 "nbformat": 4,
 "nbformat_minor": 2
}
