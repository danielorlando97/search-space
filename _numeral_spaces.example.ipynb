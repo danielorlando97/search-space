{
 "cells": [
  {
   "cell_type": "code",
   "execution_count": 1,
   "metadata": {},
   "outputs": [],
   "source": [
    "from search_space import distribution_names as df\n",
    "from search_space import NaturalSearchSpace as N\n",
    "from search_space import ContinueSearchSpace as R\n",
    "from search_space import UniversalVariable as x"
   ]
  },
  {
   "cell_type": "code",
   "execution_count": 2,
   "metadata": {},
   "outputs": [],
   "source": [
    "n1 = N(1,15)\n",
    "n = N(10, 100, distribute_like=df.UNIFORM) | (x >= 5*n1)\n",
    "m = R(10, 100) | (x < n)"
   ]
  },
  {
   "cell_type": "code",
   "execution_count": 3,
   "metadata": {},
   "outputs": [
    {
     "data": {
      "text/plain": [
       "50"
      ]
     },
     "execution_count": 3,
     "metadata": {},
     "output_type": "execute_result"
    }
   ],
   "source": [
    "value, _ = n.get_sampler()\n",
    "value"
   ]
  },
  {
   "cell_type": "code",
   "execution_count": 4,
   "metadata": {},
   "outputs": [
    {
     "data": {
      "text/plain": [
       "13.480514794182863"
      ]
     },
     "execution_count": 4,
     "metadata": {},
     "output_type": "execute_result"
    }
   ],
   "source": [
    "value, _ = m.get_sampler()\n",
    "value"
   ]
  },
  {
   "cell_type": "code",
   "execution_count": 5,
   "metadata": {},
   "outputs": [
    {
     "name": "stdout",
     "output_type": "stream",
     "text": [
      "34.363133773541385 < 60 > 11\n"
     ]
    }
   ],
   "source": [
    "nv, context = n.get_sampler()\n",
    "mv, _ = m.get_sampler(context=context)\n",
    "n1v, _ = n1.get_sampler(context=context)\n",
    "print(mv, '<', nv, '>', n1v)"
   ]
  },
  {
   "cell_type": "code",
   "execution_count": 6,
   "metadata": {},
   "outputs": [
    {
     "name": "stdout",
     "output_type": "stream",
     "text": [
      "51.75878045548225 = 25.758780455482253 + 26 | 25.758780455482253 < 26\n"
     ]
    }
   ],
   "source": [
    "k = m + n\n",
    "kv, context = k.get_sampler()\n",
    "nv, _ = n.get_sampler(context=context)\n",
    "mv, _ = m.get_sampler(context=context)\n",
    "\n",
    "print(kv, '=', mv, '+', nv, '|', mv, '<', nv)"
   ]
  },
  {
   "cell_type": "code",
   "execution_count": 7,
   "metadata": {},
   "outputs": [
    {
     "name": "stdout",
     "output_type": "stream",
     "text": [
      "104.46182754700351\n"
     ]
    }
   ],
   "source": [
    "k = m + n + 2 + n + 4 + m\n",
    "kv, context = k.get_sampler()\n",
    "print(kv)"
   ]
  },
  {
   "cell_type": "code",
   "execution_count": 8,
   "metadata": {},
   "outputs": [
    {
     "name": "stdout",
     "output_type": "stream",
     "text": [
      "Sampler in ContinueSearchSpace[(10, 100)]:\n",
      "\tSampler in NaturalSearchSpace[(10, 100)]:\n",
      "\t\tSampler in NaturalSearchSpace[(1, 15)]:\n",
      "\t\t\tNaturalSearchSpace[(1, 15)] ---> 10.191108639289384 ---> 10\n",
      "\t\tNaturalSearchSpace[(10, 100)] ---> GreatEqual ---> (10, 100)\n",
      "\t\tNaturalSearchSpace[(10, 100)] ---> 39.10307619161201 ---> 39\n",
      "\tContinueSearchSpace[(10, 100)] ---> Less ---> (10, 39)\n",
      "\tContinueSearchSpace[10.230913773501753] ---> Less ---> True\n",
      "\tContinueSearchSpace[(10, 39)] ---> 10.230913773501753 ---> 10.230913773501753\n",
      "None\n"
     ]
    }
   ],
   "source": [
    "print(context.print_history())"
   ]
  },
  {
   "cell_type": "code",
   "execution_count": 9,
   "metadata": {},
   "outputs": [
    {
     "name": "stdout",
     "output_type": "stream",
     "text": [
      "191.4162754576647\n",
      "18\n",
      "Sampler in NaturalSearchSpace[(1, 15)]:\n",
      "\tNaturalSearchSpace[(1, 15)] ---> 4.318846197768634 ---> 4\n",
      "Sampler in ContinueSearchSpace[(10, 100)]:\n",
      "\tSampler in NaturalSearchSpace[(10, 100)]:\n",
      "\t\tNaturalSearchSpace[(10, 100)] ---> GreatEqual ---> (10, 100)\n",
      "\t\tNaturalSearchSpace[(10, 100)] ---> 53.90242579473662 ---> 54\n",
      "\tContinueSearchSpace[(10, 100)] ---> Less ---> (10, 54)\n",
      "\tContinueSearchSpace[38.70813772883237] ---> Less ---> True\n",
      "\tContinueSearchSpace[(10, 54)] ---> 38.70813772883237 ---> 38.70813772883237\n"
     ]
    }
   ],
   "source": [
    "from search_space import Function\n",
    "\n",
    "class Factorial(Function):\n",
    "    def __call__(self, n: float):\n",
    "        result = 1\n",
    "        for i in range(2, int(n+1)):\n",
    "            result *= i\n",
    "        return result\n",
    "\n",
    "\n",
    "k_factorial = Factorial(n1) - Factorial(n1-1)\n",
    "kfv, context = k_factorial.get_sampler()\n",
    "kv, _ = k.get_sampler(context=context)\n",
    "print(kv)\n",
    "print(kfv)\n",
    "context.print_history()"
   ]
  },
  {
   "cell_type": "code",
   "execution_count": null,
   "metadata": {},
   "outputs": [],
   "source": []
  }
 ],
 "metadata": {
  "kernelspec": {
   "display_name": "Python 3.9.13 ('search-space-GOxR18rK')",
   "language": "python",
   "name": "python3"
  },
  "language_info": {
   "codemirror_mode": {
    "name": "ipython",
    "version": 3
   },
   "file_extension": ".py",
   "mimetype": "text/x-python",
   "name": "python",
   "nbconvert_exporter": "python",
   "pygments_lexer": "ipython3",
   "version": "3.9.13"
  },
  "orig_nbformat": 4,
  "vscode": {
   "interpreter": {
    "hash": "c79e4088d227ec38596042bb0116e2a52748b9fd0976467c629425f8895ee7f3"
   }
  }
 },
 "nbformat": 4,
 "nbformat_minor": 2
}
