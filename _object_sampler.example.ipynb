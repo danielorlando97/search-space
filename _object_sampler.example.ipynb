{
 "cells": [
  {
   "cell_type": "code",
   "execution_count": 1,
   "metadata": {},
   "outputs": [],
   "source": [
    "from search_space import distribution_names as df\n",
    "from search_space import NaturalSearchSpace as N\n",
    "from search_space import ContinueSearchSpace as R\n",
    "from search_space import UniversalVariable as x"
   ]
  },
  {
   "cell_type": "code",
   "execution_count": 2,
   "metadata": {},
   "outputs": [],
   "source": [
    "import inspect\n",
    "import types\n",
    "\n",
    "def delegate(f):\n",
    "    def ff():\n",
    "        return f()\n",
    "    return ff\n",
    "\n",
    "def for_all_methods(decorator):\n",
    "    def decorate(cls):\n",
    "        for attr in cls.__dict__: # there's propably a better way to do this\n",
    "            if callable(getattr(cls, attr)):\n",
    "                setattr(cls, attr, decorator(getattr(cls, attr)))\n",
    "        return cls\n",
    "    return decorate\n",
    "\n",
    "def __new__(cls, m: float, n: float):\n",
    "    cls.x_domain = R()\n",
    "    cls.y_domain = m * cls.x_domain + n\n",
    "    for n, func in inspect.getmembers(cls):\n",
    "        cls.__setattr__(cls, n, types.MethodType(delegate(func), cls)) \n",
    "    return cls\n",
    "\n",
    "class LineSearchSpace:\n",
    "    M = R()\n",
    "    N = R()\n",
    "    X = R()\n",
    "\n",
    "    def __init__(self, m: float = M, n: float = N) -> None:\n",
    "        self.m, self.n = m, n\n",
    "\n",
    "    def sampler_lineal_point(self, x: float = X):\n",
    "        return (x, self.m * x + self.n)"
   ]
  },
  {
   "cell_type": "code",
   "execution_count": 3,
   "metadata": {},
   "outputs": [
    {
     "name": "stdout",
     "output_type": "stream",
     "text": [
      "ArgSpec(args=['a', 'b'], varargs=None, keywords=None, defaults=None)\n"
     ]
    },
    {
     "name": "stderr",
     "output_type": "stream",
     "text": [
      "/var/folders/g_/0lqz2qlx7cx96d901w35swh40000gn/T/ipykernel_34579/2031524247.py:8: DeprecationWarning: inspect.getargspec() is deprecated since Python 3.0, use inspect.signature() or inspect.getfullargspec()\n",
      "  print(inspect.getargspec(fun))\n"
     ]
    }
   ],
   "source": [
    "def fun(a, b):\n",
    "    return a**b\n",
    "  \n",
    "# import required modules \n",
    "import inspect \n",
    "  \n",
    "# use getargspec() \n",
    "print(inspect.getargspec(fun)) "
   ]
  },
  {
   "cell_type": "code",
   "execution_count": 4,
   "metadata": {},
   "outputs": [],
   "source": [
    "class Point:\n",
    "    \"\"\"Domain Description\"\"\"\n",
    "    x_domain = R()\n",
    "    y_domain = R()\n",
    "\n",
    "    \"\"\"Class Description\"\"\"\n",
    "    def __init__(self, x: float = x_domain, y: float = y_domain) -> None:\n",
    "        self.x, self.y = x, y\n",
    "\n",
    "class Line:\n",
    "    \"\"\"Domain Description\"\"\"\n",
    "    m_domain = R()\n",
    "    n_domain = R()\n",
    "    x_domain = R()\n",
    "\n",
    "    \"\"\"Class Description\"\"\"\n",
    "    def __init__(self, m: float = m_domain, n: float = n_domain) -> None:\n",
    "        self.m, self.n = m, n\n",
    "\n",
    "    def get_point(self, x: float = x_domain) -> Point:\n",
    "        return Point(x, self.m * x + self.n)"
   ]
  },
  {
   "cell_type": "code",
   "execution_count": 5,
   "metadata": {},
   "outputs": [],
   "source": [
    "class B:\n",
    "    def __init__(self, x) -> None:\n",
    "        self.x = x\n",
    "\n",
    "\n",
    "class A:\n",
    "    B = B(1)"
   ]
  },
  {
   "cell_type": "code",
   "execution_count": 6,
   "metadata": {},
   "outputs": [],
   "source": [
    "a = A()"
   ]
  },
  {
   "cell_type": "code",
   "execution_count": 7,
   "metadata": {},
   "outputs": [],
   "source": [
    "a.B.x = 4"
   ]
  },
  {
   "cell_type": "code",
   "execution_count": 8,
   "metadata": {},
   "outputs": [],
   "source": [
    "e = A()"
   ]
  },
  {
   "cell_type": "code",
   "execution_count": 9,
   "metadata": {},
   "outputs": [
    {
     "data": {
      "text/plain": [
       "4"
      ]
     },
     "execution_count": 9,
     "metadata": {},
     "output_type": "execute_result"
    }
   ],
   "source": [
    "e.B.x"
   ]
  },
  {
   "cell_type": "code",
   "execution_count": 10,
   "metadata": {},
   "outputs": [],
   "source": [
    "from search_space.spaces.build_in_spaces.object_search_space import MetaClassFabricSearchSpace\n",
    "\n",
    "\n",
    "class Line(metaclass = MetaClassFabricSearchSpace):\n",
    "    \"\"\"Domain Description\"\"\"\n",
    "    m_domain = R()\n",
    "    n_domain = R()\n",
    "    x_domain = R()\n",
    "\n",
    "    \"\"\"Class Description\"\"\"\n",
    "    def __init__(self, m: float = m_domain, n: float = n_domain) -> None:\n",
    "        self.m, self.n = m, n\n",
    "\n",
    "    def get_point(self, x: float = x_domain) :\n",
    "        return (x, self.m * x + self.n)\n"
   ]
  },
  {
   "cell_type": "code",
   "execution_count": 11,
   "metadata": {},
   "outputs": [],
   "source": [
    "a= Line()"
   ]
  },
  {
   "cell_type": "code",
   "execution_count": 12,
   "metadata": {},
   "outputs": [
    {
     "data": {
      "text/plain": [
       "(<__main__.Line at 0x12590e460>,\n",
       " <search_space.context_manager.sampler_context.SamplerContext at 0x12590edf0>)"
      ]
     },
     "execution_count": 12,
     "metadata": {},
     "output_type": "execute_result"
    }
   ],
   "source": [
    "a.get_sampler()"
   ]
  },
  {
   "cell_type": "code",
   "execution_count": 14,
   "metadata": {},
   "outputs": [
    {
     "ename": "AssertionError",
     "evalue": "",
     "output_type": "error",
     "traceback": [
      "\u001b[0;31m---------------------------------------------------------------------------\u001b[0m",
      "\u001b[0;31mAssertionError\u001b[0m                            Traceback (most recent call last)",
      "\u001b[1;32m/Users/dany/src/school/tesis/search-space/_object_sampler.example.ipynb Cell 13\u001b[0m in \u001b[0;36m<cell line: 6>\u001b[0;34m()\u001b[0m\n\u001b[1;32m      <a href='vscode-notebook-cell:/Users/dany/src/school/tesis/search-space/_object_sampler.example.ipynb#X15sZmlsZQ%3D%3D?line=1'>2</a>\u001b[0m line, _ \u001b[39m=\u001b[39m space\u001b[39m.\u001b[39mget_sampler()\n\u001b[1;32m      <a href='vscode-notebook-cell:/Users/dany/src/school/tesis/search-space/_object_sampler.example.ipynb#X15sZmlsZQ%3D%3D?line=4'>5</a>\u001b[0m X, y \u001b[39m=\u001b[39m line\u001b[39m.\u001b[39mget_point()\n\u001b[0;32m----> <a href='vscode-notebook-cell:/Users/dany/src/school/tesis/search-space/_object_sampler.example.ipynb#X15sZmlsZQ%3D%3D?line=5'>6</a>\u001b[0m \u001b[39massert\u001b[39;00m X \u001b[39m<\u001b[39m \u001b[39m3\u001b[39m\n\u001b[1;32m      <a href='vscode-notebook-cell:/Users/dany/src/school/tesis/search-space/_object_sampler.example.ipynb#X15sZmlsZQ%3D%3D?line=6'>7</a>\u001b[0m \u001b[39massert\u001b[39;00m y \u001b[39m==\u001b[39m line\u001b[39m.\u001b[39mm \u001b[39m*\u001b[39m X \u001b[39m+\u001b[39m line\u001b[39m.\u001b[39mn\n",
      "\u001b[0;31mAssertionError\u001b[0m: "
     ]
    }
   ],
   "source": [
    "space  = Line() | (x.m_domain < 10, x.n_domain > 50, x.x_domain < 3)\n",
    "line, _ = space.get_sampler()\n",
    "\n",
    "\n",
    "X, y = line.get_point()\n",
    "assert X < 3\n",
    "assert y == line.m * X + line.n"
   ]
  }
 ],
 "metadata": {
  "kernelspec": {
   "display_name": "Python 3.9.13 ('search-space-GOxR18rK')",
   "language": "python",
   "name": "python3"
  },
  "language_info": {
   "codemirror_mode": {
    "name": "ipython",
    "version": 3
   },
   "file_extension": ".py",
   "mimetype": "text/x-python",
   "name": "python",
   "nbconvert_exporter": "python",
   "pygments_lexer": "ipython3",
   "version": "3.9.13"
  },
  "orig_nbformat": 4,
  "vscode": {
   "interpreter": {
    "hash": "c79e4088d227ec38596042bb0116e2a52748b9fd0976467c629425f8895ee7f3"
   }
  }
 },
 "nbformat": 4,
 "nbformat_minor": 2
}
