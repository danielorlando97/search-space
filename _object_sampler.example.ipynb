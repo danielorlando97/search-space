{
 "cells": [
  {
   "cell_type": "code",
   "execution_count": 1,
   "metadata": {},
   "outputs": [],
   "source": [
    "from search_space import distribution_names as df\n",
    "from search_space import NaturalSearchSpace as N\n",
    "from search_space import ContinueSearchSpace as R\n",
    "from search_space import UniversalVariable as x"
   ]
  },
  {
   "cell_type": "code",
   "execution_count": 2,
   "metadata": {},
   "outputs": [],
   "source": [
    "import inspect\n",
    "import types\n",
    "\n",
    "def delegate(f):\n",
    "    def ff():\n",
    "        return f()\n",
    "    return ff\n",
    "\n",
    "def for_all_methods(decorator):\n",
    "    def decorate(cls):\n",
    "        for attr in cls.__dict__: # there's propably a better way to do this\n",
    "            if callable(getattr(cls, attr)):\n",
    "                setattr(cls, attr, decorator(getattr(cls, attr)))\n",
    "        return cls\n",
    "    return decorate\n",
    "\n",
    "def __new__(cls, m: float, n: float):\n",
    "    cls.x_domain = R()\n",
    "    cls.y_domain = m * cls.x_domain + n\n",
    "    for n, func in inspect.getmembers(cls):\n",
    "        cls.__setattr__(cls, n, types.MethodType(delegate(func), cls)) \n",
    "    return cls\n",
    "\n",
    "class LineSearchSpace:\n",
    "    M = R()\n",
    "    N = R()\n",
    "    X = R()\n",
    "\n",
    "    def __init__(self, m: float = M, n: float = N) -> None:\n",
    "        self.m, self.n = m, n\n",
    "\n",
    "    def sampler_lineal_point(self, x: float = X):\n",
    "        return (x, self.m * x + self.n)"
   ]
  },
  {
   "cell_type": "code",
   "execution_count": 3,
   "metadata": {},
   "outputs": [
    {
     "name": "stdout",
     "output_type": "stream",
     "text": [
      "ArgSpec(args=['a', 'b'], varargs=None, keywords=None, defaults=None)\n"
     ]
    },
    {
     "name": "stderr",
     "output_type": "stream",
     "text": [
      "/var/folders/g_/0lqz2qlx7cx96d901w35swh40000gn/T/ipykernel_6979/2031524247.py:8: DeprecationWarning: inspect.getargspec() is deprecated since Python 3.0, use inspect.signature() or inspect.getfullargspec()\n",
      "  print(inspect.getargspec(fun))\n"
     ]
    }
   ],
   "source": [
    "def fun(a, b):\n",
    "    return a**b\n",
    "  \n",
    "# import required modules \n",
    "import inspect \n",
    "  \n",
    "# use getargspec() \n",
    "print(inspect.getargspec(fun)) "
   ]
  },
  {
   "cell_type": "code",
   "execution_count": 4,
   "metadata": {},
   "outputs": [],
   "source": [
    "class Point:\n",
    "    \"\"\"Domain Description\"\"\"\n",
    "    x_domain = R()\n",
    "    y_domain = R()\n",
    "\n",
    "    \"\"\"Class Description\"\"\"\n",
    "    def __init__(self, x: float = x_domain, y: float = y_domain) -> None:\n",
    "        self.x, self.y = x, y\n",
    "\n",
    "class Line:\n",
    "    \"\"\"Domain Description\"\"\"\n",
    "    m_domain = R()\n",
    "    n_domain = R()\n",
    "    x_domain = R()\n",
    "\n",
    "    \"\"\"Class Description\"\"\"\n",
    "    def __init__(self, m: float = m_domain, n: float = n_domain) -> None:\n",
    "        self.m, self.n = m, n\n",
    "\n",
    "    def get_point(self, x: float = x_domain) -> Point:\n",
    "        return Point(x, self.m * x + self.n)"
   ]
  },
  {
   "cell_type": "code",
   "execution_count": 5,
   "metadata": {},
   "outputs": [],
   "source": [
    "class B:\n",
    "    def __init__(self, x) -> None:\n",
    "        self.x = x\n",
    "\n",
    "\n",
    "class A:\n",
    "    B = B(1)"
   ]
  },
  {
   "cell_type": "code",
   "execution_count": 6,
   "metadata": {},
   "outputs": [],
   "source": [
    "a = A()"
   ]
  },
  {
   "cell_type": "code",
   "execution_count": 7,
   "metadata": {},
   "outputs": [],
   "source": [
    "a.B.x = 4"
   ]
  },
  {
   "cell_type": "code",
   "execution_count": 8,
   "metadata": {},
   "outputs": [],
   "source": [
    "e = A()"
   ]
  },
  {
   "cell_type": "code",
   "execution_count": 9,
   "metadata": {},
   "outputs": [
    {
     "data": {
      "text/plain": [
       "4"
      ]
     },
     "execution_count": 9,
     "metadata": {},
     "output_type": "execute_result"
    }
   ],
   "source": [
    "e.B.x"
   ]
  },
  {
   "cell_type": "code",
   "execution_count": 13,
   "metadata": {},
   "outputs": [],
   "source": [
    "from copy import copy\n",
    "from ctypes import resize\n",
    "from typing import Type\n",
    "from search_space.spaces import SearchSpace, SearchSpaceDomain\n",
    "import inspect \n",
    "  \n",
    "# use getargspec() \n",
    "\n",
    "class ObjectDomain(SearchSpaceDomain):\n",
    "    def __init__(self, cls) -> None:\n",
    "        super().__init__()\n",
    "        self.cls = cls\n",
    "\n",
    "    #################################################################\n",
    "    #                                                               #\n",
    "    #                  Transformations                              #\n",
    "    #                                                               #\n",
    "    #################################################################\n",
    "\n",
    "    @visitor.on(\"node\")\n",
    "    def transform(self, node, context):\n",
    "        pass\n",
    "\n",
    "    @visitor.when(ast.UniversalVariable)\n",
    "    def transform(self, node, context: SamplerContext):\n",
    "        raise UnSupportOpError(self, node, \"transform\")\n",
    "\n",
    "\n",
    "    #################################################################\n",
    "    #                                                               #\n",
    "    #             Class Transformations                             #\n",
    "    #                                                               #\n",
    "    #################################################################\n",
    "\n",
    "    @visitor.when(ast.Index)\n",
    "    def transform(self, node, context: SamplerContext):\n",
    "        name = node.index\n",
    "        ss = self.cls.__dict__[name]\n",
    "        ss.constraint_list.append(node.ast)\n",
    "\n",
    "        return self    \n",
    "\n",
    "    #################################################################\n",
    "    #                                                               #\n",
    "    #                  Simple Transform                             #\n",
    "    #                                                               #\n",
    "    #################################################################\n",
    "\n",
    "    @visitor.when(ast.SelfValue)\n",
    "    def transform(self, node: ast.SelfValue, context: SamplerContext):\n",
    "        return self\n",
    "\n",
    "    @visitor.when(ast.NaturalValue)\n",
    "    def transform(self, node: ast.NaturalValue, context: SamplerContext):\n",
    "        try:\n",
    "            return node.other.get_sampler(context=context)[0]\n",
    "        except AttributeError:\n",
    "            return node.other\n",
    "\n",
    "\n",
    "class MetaClassFabricSearchSpace(Type):\n",
    "    class_decorated = False\n",
    "\n",
    "    def __call__(cls, *args, **kwargs):\n",
    "        try:\n",
    "            logs_name = kwargs[\"log_name\"]\n",
    "        except:\n",
    "            logs_name = None\n",
    "\n",
    "        if not cls.class_decorated:\n",
    "            def decorator(func):\n",
    "                def f(*args, **kwargs):\n",
    "                    _self = args[0]\n",
    "\n",
    "                    try:\n",
    "                        context = kwargs[\"__context__\"]\n",
    "                        fabric = kwargs[\"__fabric__\"]\n",
    "                    except KeyError:\n",
    "                        context = _self.__context__\n",
    "                        fabric = _self.__fabric__\n",
    "\n",
    "                    new_kwargs = {} \n",
    "                    func_data = inspect.getfullargspec(func)\n",
    "                    args_len = len(func_data.args)\n",
    "                    defaults_len = len(func_data.defaults)\n",
    "                    for index in range(defaults_len):\n",
    "                        \n",
    "                        ss = func_data.defaults[defaults_len - 1 - index]\n",
    "                        \n",
    "                        if not isinstance(ss, SearchSpace):\n",
    "                            try:\n",
    "                                value = args[args_len - 1 - index]\n",
    "                                new_kwargs[func_data.args[args_len - 1 - index]]  = value\n",
    "                            except IndexError:\n",
    "                                new_kwargs[func_data.args[args_len - 1 - index]]  = ss\n",
    "\n",
    "                            continue\n",
    "\n",
    "                        for key, item in _self.__class__.__dict__.items():\n",
    "                            if ss.is_equal(item):  # check instance\n",
    "                               ss = fabric.__dict__[key].get_sampler(context)[0]\n",
    "                               break\n",
    "                            \n",
    "                        try:\n",
    "                            # check rules \n",
    "                            value = args[args_len - 1 - index]\n",
    "                            context.registry_sampler(ss, value)\n",
    "\n",
    "                        except IndexError:\n",
    "                            value = ss.get_sampler(context) \n",
    "\n",
    "                        new_kwargs[func_data.args[args_len - 1 - index]]  = value\n",
    "                    args = args[0: args_len - defaults_len]\n",
    "                    return func(*args, **new_kwargs)\n",
    "                return f\n",
    "\n",
    "            for attr in cls.__dict__:  # there's propably a better way to do this\n",
    "                if callable(getattr(cls, attr)):\n",
    "                    setattr(cls, attr, decorator(getattr(cls, attr)))\n",
    "\n",
    "        oss = FabricSearchSpace(cls, (args, kwargs), log_name=logs_name)\n",
    "        for key, item in cls.__dict__.items():\n",
    "            if isinstance(item, SearchSpace):\n",
    "                oss.__dict__[key] = copy(item)\n",
    "\n",
    "        return oss\n",
    "\n",
    "\n",
    "class FabricSearchSpace(SearchSpace):\n",
    "    def __init__(self, cls, initial_data, log_name=None) -> None:\n",
    "        super().__init__(None, None, log_name)\n",
    "        self.cls = cls\n",
    "        self.initial_domain = initial_data\n",
    "\n",
    "    def _get_random_value(self, domain, context):\n",
    "        args, kw = self.initial_domain\n",
    "        result = type.__call__(self.cls, *args, **kw, __context__ = context, __fabric__ = self)\n",
    "        result.__context__ = context\n",
    "        result.__fabric__ = self\n",
    "        return result\n",
    "    \n",
    "    def _create_domain(self, domain) -> SearchSpaceDomain:\n",
    "        return ObjectDomain(self)\n",
    "\n",
    "\n",
    "\n",
    "class Line(metaclass = MetaClassFabricSearchSpace):\n",
    "    \"\"\"Domain Description\"\"\"\n",
    "    m_domain = R()\n",
    "    n_domain = R()\n",
    "    x_domain = R()\n",
    "\n",
    "    \"\"\"Class Description\"\"\"\n",
    "    def __init__(self, m: float = m_domain, n: float = n_domain) -> None:\n",
    "        self.m, self.n = m, n\n",
    "\n",
    "    def get_point(self, x: float = x_domain) :\n",
    "        return (x, self.m * x + self.n)"
   ]
  },
  {
   "cell_type": "code",
   "execution_count": 14,
   "metadata": {},
   "outputs": [],
   "source": [
    "a= Line()"
   ]
  },
  {
   "cell_type": "code",
   "execution_count": 15,
   "metadata": {},
   "outputs": [
    {
     "data": {
      "text/plain": [
       "(<__main__.Line at 0x10834e5e0>,\n",
       " <search_space.context_manager.sampler_context.SamplerContext at 0x1088effd0>)"
      ]
     },
     "execution_count": 15,
     "metadata": {},
     "output_type": "execute_result"
    }
   ],
   "source": [
    "a.get_sampler()"
   ]
  },
  {
   "cell_type": "code",
   "execution_count": null,
   "metadata": {},
   "outputs": [],
   "source": []
  }
 ],
 "metadata": {
  "kernelspec": {
   "display_name": "Python 3.9.13 ('search-space-GOxR18rK')",
   "language": "python",
   "name": "python3"
  },
  "language_info": {
   "codemirror_mode": {
    "name": "ipython",
    "version": 3
   },
   "file_extension": ".py",
   "mimetype": "text/x-python",
   "name": "python",
   "nbconvert_exporter": "python",
   "pygments_lexer": "ipython3",
   "version": "3.9.13"
  },
  "orig_nbformat": 4,
  "vscode": {
   "interpreter": {
    "hash": "c79e4088d227ec38596042bb0116e2a52748b9fd0976467c629425f8895ee7f3"
   }
  }
 },
 "nbformat": 4,
 "nbformat_minor": 2
}
