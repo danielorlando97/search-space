{
 "cells": [
  {
   "cell_type": "code",
   "execution_count": 1,
   "metadata": {},
   "outputs": [],
   "source": [
    "from search_space.sampler import SamplerFactory\n",
    "from search_space import distribution_names"
   ]
  },
  {
   "cell_type": "code",
   "execution_count": 2,
   "metadata": {},
   "outputs": [],
   "source": [
    "uniform_sampler = SamplerFactory().create_sampler(distribution_names.UNIFORM)"
   ]
  },
  {
   "cell_type": "code",
   "execution_count": 14,
   "metadata": {},
   "outputs": [
    {
     "name": "stdout",
     "output_type": "stream",
     "text": [
      "13\n",
      "12.990021344026369\n",
      "True\n",
      "white\n"
     ]
    }
   ],
   "source": [
    "print(uniform_sampler.get_int(10, 20))\n",
    "print(uniform_sampler.get_float(10, 20))\n",
    "print(uniform_sampler.get_boolean())\n",
    "print(uniform_sampler.choice([\"white\", \"black\", \"other\"]))"
   ]
  },
  {
   "cell_type": "code",
   "execution_count": 3,
   "metadata": {},
   "outputs": [
    {
     "data": {
      "text/plain": [
       "[10, 10, 10, 4, 10, 4, 8, 6, 10, 10]"
      ]
     },
     "execution_count": 3,
     "metadata": {},
     "output_type": "execute_result"
    }
   ],
   "source": [
    "[uniform_sampler.get_int(2, 10, repeat_last_value=i > 8) for i in range(10)]"
   ]
  },
  {
   "cell_type": "code",
   "execution_count": 4,
   "metadata": {},
   "outputs": [
    {
     "data": {
      "text/plain": [
       "[9.512138902840366,\n",
       " 3.7518182784404255,\n",
       " 3.850971729569687,\n",
       " 8.783935110373953,\n",
       " 2.844092351875549,\n",
       " 7.059748366000124,\n",
       " 3.848144111501809,\n",
       " 4.145177943641356,\n",
       " 2.725077159700458,\n",
       " 2.725077159700458]"
      ]
     },
     "execution_count": 4,
     "metadata": {},
     "output_type": "execute_result"
    }
   ],
   "source": [
    "[uniform_sampler.get_float(2, 10, repeat_last_value=i > 8) for i in range(10)]"
   ]
  },
  {
   "cell_type": "code",
   "execution_count": 5,
   "metadata": {},
   "outputs": [
    {
     "data": {
      "text/plain": [
       "[True, False, True, True, False, False, True, True, True, True]"
      ]
     },
     "execution_count": 5,
     "metadata": {},
     "output_type": "execute_result"
    }
   ],
   "source": [
    "[uniform_sampler.get_boolean(repeat_last_value=i > 8) for i in range(10)]"
   ]
  },
  {
   "cell_type": "code",
   "execution_count": 6,
   "metadata": {},
   "outputs": [
    {
     "data": {
      "text/plain": [
       "['black',\n",
       " 'white',\n",
       " 'white',\n",
       " 'black',\n",
       " 'yellow',\n",
       " 'black',\n",
       " 'black',\n",
       " 'white',\n",
       " 'black',\n",
       " 'black']"
      ]
     },
     "execution_count": 6,
     "metadata": {},
     "output_type": "execute_result"
    }
   ],
   "source": [
    "[uniform_sampler.choice([\"red\", \"yellow\", 'black', 'white'],repeat_last_value=i > 8) for i in range(10)]"
   ]
  },
  {
   "cell_type": "code",
   "execution_count": 9,
   "metadata": {},
   "outputs": [
    {
     "data": {
      "text/plain": [
       "[9, 9, 57, 64, 64, 55, 15, 15, 31, 8, 8, 41, 43, 43, 96, 27, 27, 8, 10, 10]"
      ]
     },
     "execution_count": 9,
     "metadata": {},
     "output_type": "execute_result"
    }
   ],
   "source": [
    "[uniform_sampler.get_int(2, 100, repeat_last_value=i % 3 == 1) for i in range(20)]"
   ]
  },
  {
   "cell_type": "code",
   "execution_count": 15,
   "metadata": {},
   "outputs": [],
   "source": [
    "from search_space.sampler import distribution, Sampler\n",
    "\n",
    "@distribution(distribution_names.UNIFORM)\n",
    "class OnlyFirstLimit(Sampler):\n",
    "    def generate_random_value(self, domain):\n",
    "        return domain[0]\n"
   ]
  },
  {
   "cell_type": "code",
   "execution_count": 16,
   "metadata": {},
   "outputs": [],
   "source": [
    "new_uniform_sampler = SamplerFactory().create_sampler(distribution_names.UNIFORM)"
   ]
  },
  {
   "cell_type": "code",
   "execution_count": 17,
   "metadata": {},
   "outputs": [
    {
     "data": {
      "text/plain": [
       "[2, 2, 2, 2, 2, 2, 2, 2, 2, 2, 2, 2, 2, 2, 2, 2, 2, 2, 2, 2]"
      ]
     },
     "execution_count": 17,
     "metadata": {},
     "output_type": "execute_result"
    }
   ],
   "source": [
    "[new_uniform_sampler.get_int(2, 100, repeat_last_value=i % 3 == 1) for i in range(20)]"
   ]
  },
  {
   "cell_type": "code",
   "execution_count": null,
   "metadata": {},
   "outputs": [],
   "source": []
  }
 ],
 "metadata": {
  "kernelspec": {
   "display_name": "Python 3.9.5 64-bit ('3.9.5')",
   "language": "python",
   "name": "python3"
  },
  "language_info": {
   "codemirror_mode": {
    "name": "ipython",
    "version": 3
   },
   "file_extension": ".py",
   "mimetype": "text/x-python",
   "name": "python",
   "nbconvert_exporter": "python",
   "pygments_lexer": "ipython3",
   "version": "3.9.5"
  },
  "orig_nbformat": 4,
  "vscode": {
   "interpreter": {
    "hash": "6601bea57ee37a7881f854040b78802430662e5dad082fb4900f8a40e0687409"
   }
  }
 },
 "nbformat": 4,
 "nbformat_minor": 2
}
