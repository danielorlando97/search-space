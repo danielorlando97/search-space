{
 "cells": [
  {
   "cell_type": "code",
   "execution_count": 1,
   "metadata": {},
   "outputs": [],
   "source": [
    "import sys\n",
    "# setting path\n",
    "sys.path.append('..')\n",
    "\n",
    "from src.search_space.domains import NaturalSearchSpace as N\n",
    "from src.search_space.domains import ContinueSearchSpace as R\n",
    "from src.search_space import UniversalVariable as x\n",
    "from src.search_space import ContextManagerSearchSpace"
   ]
  },
  {
   "cell_type": "markdown",
   "metadata": {},
   "source": [
    "## Search Space"
   ]
  },
  {
   "cell_type": "code",
   "execution_count": 2,
   "metadata": {},
   "outputs": [
    {
     "name": "stdout",
     "output_type": "stream",
     "text": [
      "NaturalSearchSpace: From (0, 100) to (0, 100), generate example sample 49\n"
     ]
    }
   ],
   "source": [
    "A = N(0, 100)\n",
    "print(A)"
   ]
  },
  {
   "cell_type": "code",
   "execution_count": 3,
   "metadata": {},
   "outputs": [
    {
     "name": "stdout",
     "output_type": "stream",
     "text": [
      "NaturalSearchSpace: From (0, 100) to (38, 42), generate example sample 39\n"
     ]
    }
   ],
   "source": [
    "A = N(0, 100) | (x != 40, x < 42, x > 38)\n",
    "print(A)"
   ]
  },
  {
   "cell_type": "code",
   "execution_count": 4,
   "metadata": {},
   "outputs": [
    {
     "ename": "TypeError",
     "evalue": "unsupported operand type(s) for +: 'NaturalSearchSpace' and 'int'",
     "output_type": "error",
     "traceback": [
      "\u001b[0;31m---------------------------------------------------------------------------\u001b[0m",
      "\u001b[0;31mTypeError\u001b[0m                                 Traceback (most recent call last)",
      "\u001b[1;32m/Users/dany/src/school/tesis/search-space/examples/numbers.ipynb Cell 5\u001b[0m in \u001b[0;36m<cell line: 2>\u001b[0;34m()\u001b[0m\n\u001b[1;32m      <a href='vscode-notebook-cell:/Users/dany/src/school/tesis/search-space/examples/numbers.ipynb#ch0000004?line=0'>1</a>\u001b[0m ContextManagerSearchSpace()\u001b[39m.\u001b[39mreset()\n\u001b[0;32m----> <a href='vscode-notebook-cell:/Users/dany/src/school/tesis/search-space/examples/numbers.ipynb#ch0000004?line=1'>2</a>\u001b[0m B \u001b[39m=\u001b[39m R(\u001b[39m0\u001b[39m, \u001b[39m100\u001b[39m) \u001b[39m|\u001b[39m (x \u001b[39m>\u001b[39m A, x \u001b[39m<\u001b[39m A \u001b[39m+\u001b[39;49m \u001b[39m4\u001b[39;49m)\n\u001b[1;32m      <a href='vscode-notebook-cell:/Users/dany/src/school/tesis/search-space/examples/numbers.ipynb#ch0000004?line=2'>3</a>\u001b[0m \u001b[39mprint\u001b[39m(B)\n\u001b[1;32m      <a href='vscode-notebook-cell:/Users/dany/src/school/tesis/search-space/examples/numbers.ipynb#ch0000004?line=3'>4</a>\u001b[0m \u001b[39mprint\u001b[39m(A)\n",
      "\u001b[0;31mTypeError\u001b[0m: unsupported operand type(s) for +: 'NaturalSearchSpace' and 'int'"
     ]
    }
   ],
   "source": [
    "ContextManagerSearchSpace().reset()\n",
    "B = R(0, 100) | (x > A, x < A + 4)\n",
    "print(B)\n",
    "print(A)"
   ]
  },
  {
   "cell_type": "code",
   "execution_count": null,
   "metadata": {},
   "outputs": [],
   "source": []
  }
 ],
 "metadata": {
  "kernelspec": {
   "display_name": "Python 3.9.13 ('search-space-GOxR18rK')",
   "language": "python",
   "name": "python3"
  },
  "language_info": {
   "codemirror_mode": {
    "name": "ipython",
    "version": 3
   },
   "file_extension": ".py",
   "mimetype": "text/x-python",
   "name": "python",
   "nbconvert_exporter": "python",
   "pygments_lexer": "ipython3",
   "version": "3.9.13"
  },
  "orig_nbformat": 4,
  "vscode": {
   "interpreter": {
    "hash": "c79e4088d227ec38596042bb0116e2a52748b9fd0976467c629425f8895ee7f3"
   }
  }
 },
 "nbformat": 4,
 "nbformat_minor": 2
}
