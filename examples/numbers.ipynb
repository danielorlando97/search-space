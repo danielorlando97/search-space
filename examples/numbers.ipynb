{
 "cells": [
  {
   "cell_type": "code",
   "execution_count": 1,
   "metadata": {},
   "outputs": [
    {
     "ename": "ImportError",
     "evalue": "cannot import name 'NaturalNormalDistributeSampler' from 'src.samplers.implementations.uniform_sampler' (/Users/dany/src/school/tesis/search-space/examples/../src/samplers/implementations/uniform_sampler.py)",
     "output_type": "error",
     "traceback": [
      "\u001b[0;31m---------------------------------------------------------------------------\u001b[0m",
      "\u001b[0;31mImportError\u001b[0m                               Traceback (most recent call last)",
      "\u001b[1;32m/Users/dany/src/school/tesis/search-space/examples/numbers.ipynb Cell 1\u001b[0m in \u001b[0;36m<cell line: 7>\u001b[0;34m()\u001b[0m\n\u001b[1;32m      <a href='vscode-notebook-cell:/Users/dany/src/school/tesis/search-space/examples/numbers.ipynb#ch0000000?line=2'>3</a>\u001b[0m sys\u001b[39m.\u001b[39mpath\u001b[39m.\u001b[39mappend(\u001b[39m'\u001b[39m\u001b[39m..\u001b[39m\u001b[39m'\u001b[39m)\n\u001b[1;32m      <a href='vscode-notebook-cell:/Users/dany/src/school/tesis/search-space/examples/numbers.ipynb#ch0000000?line=4'>5</a>\u001b[0m \u001b[39m# from src.search_space.domains import NaturalSearchSpace as N\u001b[39;00m\n\u001b[1;32m      <a href='vscode-notebook-cell:/Users/dany/src/school/tesis/search-space/examples/numbers.ipynb#ch0000000?line=5'>6</a>\u001b[0m \u001b[39m# from src.search_space.domains import ContinueSearchSpace as R\u001b[39;00m\n\u001b[0;32m----> <a href='vscode-notebook-cell:/Users/dany/src/school/tesis/search-space/examples/numbers.ipynb#ch0000000?line=6'>7</a>\u001b[0m \u001b[39mfrom\u001b[39;00m \u001b[39msrc\u001b[39;00m\u001b[39m.\u001b[39;00m\u001b[39msearch_space\u001b[39;00m \u001b[39mimport\u001b[39;00m UniversalVariable \u001b[39mas\u001b[39;00m x\n\u001b[1;32m      <a href='vscode-notebook-cell:/Users/dany/src/school/tesis/search-space/examples/numbers.ipynb#ch0000000?line=7'>8</a>\u001b[0m \u001b[39mfrom\u001b[39;00m \u001b[39msrc\u001b[39;00m\u001b[39m.\u001b[39;00m\u001b[39msearch_space\u001b[39;00m \u001b[39mimport\u001b[39;00m ContextManagerSearchSpace\n",
      "File \u001b[0;32m~/src/school/tesis/search-space/examples/../src/__init__.py:4\u001b[0m, in \u001b[0;36m<module>\u001b[0;34m\u001b[0m\n\u001b[1;32m      2\u001b[0m \u001b[39mfrom\u001b[39;00m \u001b[39msrc\u001b[39;00m \u001b[39mimport\u001b[39;00m tools\n\u001b[1;32m      3\u001b[0m \u001b[39mfrom\u001b[39;00m \u001b[39msrc\u001b[39;00m \u001b[39mimport\u001b[39;00m search_space\n\u001b[0;32m----> 4\u001b[0m \u001b[39mfrom\u001b[39;00m \u001b[39msrc\u001b[39;00m\u001b[39m.\u001b[39;00m\u001b[39msearch_space\u001b[39;00m \u001b[39mimport\u001b[39;00m domains\n",
      "File \u001b[0;32m~/src/school/tesis/search-space/examples/../src/search_space/domains/__init__.py:10\u001b[0m, in \u001b[0;36m<module>\u001b[0;34m\u001b[0m\n\u001b[1;32m      1\u001b[0m \u001b[39m# try:\u001b[39;00m\n\u001b[1;32m      2\u001b[0m \u001b[39m#     from .numeral_search_space import NaturalSearchSpace, ContinueSearchSpace\u001b[39;00m\n\u001b[1;32m      3\u001b[0m \u001b[39m#     from .categorical_search_space import CategoricalSearchSpace, BooleanSearchSpace\u001b[39;00m\n\u001b[0;32m   (...)\u001b[0m\n\u001b[1;32m      7\u001b[0m \u001b[39m#     from categorical_search_space import CategoricalSearchSpace, BooleanSearchSpace\u001b[39;00m\n\u001b[1;32m      8\u001b[0m \u001b[39m#     from object_search_space import ObjectSearchSpace, ListSearchSpace\u001b[39;00m\n\u001b[0;32m---> 10\u001b[0m \u001b[39mfrom\u001b[39;00m \u001b[39m.\u001b[39;00m\u001b[39mnumeral_search_space\u001b[39;00m \u001b[39mimport\u001b[39;00m NaturalSearchSpace, ContinueSearchSpace\n\u001b[1;32m     11\u001b[0m \u001b[39mfrom\u001b[39;00m \u001b[39m.\u001b[39;00m\u001b[39mcategorical_search_space\u001b[39;00m \u001b[39mimport\u001b[39;00m CategoricalSearchSpace, BooleanSearchSpace\n\u001b[1;32m     12\u001b[0m \u001b[39mfrom\u001b[39;00m \u001b[39m.\u001b[39;00m\u001b[39mobject_search_space\u001b[39;00m \u001b[39mimport\u001b[39;00m ListSearchSpace, ObjectSearchSpace\n",
      "File \u001b[0;32m~/src/school/tesis/search-space/examples/../src/search_space/domains/numeral_search_space.py:10\u001b[0m, in \u001b[0;36m<module>\u001b[0;34m\u001b[0m\n\u001b[1;32m      8\u001b[0m \u001b[39mfrom\u001b[39;00m \u001b[39m.\u001b[39;00m\u001b[39m.\u001b[39;00m\u001b[39mabs_search_space\u001b[39;00m \u001b[39mimport\u001b[39;00m SearchSpace\n\u001b[1;32m      9\u001b[0m \u001b[39mfrom\u001b[39;00m \u001b[39m.\u001b[39;00m\u001b[39m.\u001b[39;00m\u001b[39mss_constraint\u001b[39;00m \u001b[39mimport\u001b[39;00m SearchSpaceConstraint\n\u001b[0;32m---> 10\u001b[0m \u001b[39mfrom\u001b[39;00m \u001b[39m.\u001b[39;00m\u001b[39m.\u001b[39;00m\u001b[39m.\u001b[39;00m\u001b[39msamplers\u001b[39;00m\u001b[39m.\u001b[39;00m\u001b[39mimplementations\u001b[39;00m\u001b[39m.\u001b[39;00m\u001b[39muniform_sampler\u001b[39;00m \u001b[39mimport\u001b[39;00m NaturalNormalDistributeSampler, ContinueNormalDistributeSampler\n\u001b[1;32m     13\u001b[0m \u001b[39mclass\u001b[39;00m \u001b[39mNumeralSearchSpace\u001b[39;00m(SearchSpace):\n\u001b[1;32m     14\u001b[0m     \u001b[39mdef\u001b[39;00m \u001b[39m__init__\u001b[39m(\u001b[39mself\u001b[39m, \u001b[39mmin\u001b[39m, \u001b[39mmax\u001b[39m, distribute_like, log_name) \u001b[39m-\u001b[39m\u001b[39m>\u001b[39m \u001b[39mNone\u001b[39;00m:\n",
      "\u001b[0;31mImportError\u001b[0m: cannot import name 'NaturalNormalDistributeSampler' from 'src.samplers.implementations.uniform_sampler' (/Users/dany/src/school/tesis/search-space/examples/../src/samplers/implementations/uniform_sampler.py)"
     ]
    }
   ],
   "source": [
    "import sys\n",
    "# setting path\n",
    "sys.path.append('..')\n",
    "\n",
    "# from src.search_space.domains import NaturalSearchSpace as N\n",
    "# from src.search_space.domains import ContinueSearchSpace as R\n",
    "from src.search_space import UniversalVariable as x\n",
    "from src.search_space import ContextManagerSearchSpace"
   ]
  },
  {
   "cell_type": "markdown",
   "metadata": {},
   "source": [
    "## Search Space"
   ]
  },
  {
   "cell_type": "code",
   "execution_count": null,
   "metadata": {},
   "outputs": [
    {
     "name": "stdout",
     "output_type": "stream",
     "text": [
      "NaturalSearchSpace: From (0, 100) to (0, 100), generate example sample 49\n"
     ]
    }
   ],
   "source": [
    "A = N(0, 100)\n",
    "print(A)"
   ]
  },
  {
   "cell_type": "code",
   "execution_count": null,
   "metadata": {},
   "outputs": [
    {
     "name": "stdout",
     "output_type": "stream",
     "text": [
      "NaturalSearchSpace: From (0, 100) to (38, 42), generate example sample 39\n"
     ]
    }
   ],
   "source": [
    "A = N(0, 100) | (x != 40, x < 42, x > 38)\n",
    "print(A)"
   ]
  },
  {
   "cell_type": "code",
   "execution_count": null,
   "metadata": {},
   "outputs": [
    {
     "ename": "TypeError",
     "evalue": "unsupported operand type(s) for +: 'NaturalSearchSpace' and 'int'",
     "output_type": "error",
     "traceback": [
      "\u001b[0;31m---------------------------------------------------------------------------\u001b[0m",
      "\u001b[0;31mTypeError\u001b[0m                                 Traceback (most recent call last)",
      "\u001b[1;32m/Users/dany/src/school/tesis/search-space/examples/numbers.ipynb Cell 5\u001b[0m in \u001b[0;36m<cell line: 2>\u001b[0;34m()\u001b[0m\n\u001b[1;32m      <a href='vscode-notebook-cell:/Users/dany/src/school/tesis/search-space/examples/numbers.ipynb#ch0000004?line=0'>1</a>\u001b[0m ContextManagerSearchSpace()\u001b[39m.\u001b[39mreset()\n\u001b[0;32m----> <a href='vscode-notebook-cell:/Users/dany/src/school/tesis/search-space/examples/numbers.ipynb#ch0000004?line=1'>2</a>\u001b[0m B \u001b[39m=\u001b[39m R(\u001b[39m0\u001b[39m, \u001b[39m100\u001b[39m) \u001b[39m|\u001b[39m (x \u001b[39m>\u001b[39m A, x \u001b[39m<\u001b[39m A \u001b[39m+\u001b[39;49m \u001b[39m4\u001b[39;49m)\n\u001b[1;32m      <a href='vscode-notebook-cell:/Users/dany/src/school/tesis/search-space/examples/numbers.ipynb#ch0000004?line=2'>3</a>\u001b[0m \u001b[39mprint\u001b[39m(B)\n\u001b[1;32m      <a href='vscode-notebook-cell:/Users/dany/src/school/tesis/search-space/examples/numbers.ipynb#ch0000004?line=3'>4</a>\u001b[0m \u001b[39mprint\u001b[39m(A)\n",
      "\u001b[0;31mTypeError\u001b[0m: unsupported operand type(s) for +: 'NaturalSearchSpace' and 'int'"
     ]
    }
   ],
   "source": [
    "ContextManagerSearchSpace().reset()\n",
    "B = R(0, 100) | (x > A, x < A + 4)\n",
    "print(B)\n",
    "print(A)"
   ]
  },
  {
   "cell_type": "code",
   "execution_count": null,
   "metadata": {},
   "outputs": [],
   "source": []
  }
 ],
 "metadata": {
  "kernelspec": {
   "display_name": "Python 3.9.13 ('search-space-GOxR18rK')",
   "language": "python",
   "name": "python3"
  },
  "language_info": {
   "codemirror_mode": {
    "name": "ipython",
    "version": 3
   },
   "file_extension": ".py",
   "mimetype": "text/x-python",
   "name": "python",
   "nbconvert_exporter": "python",
   "pygments_lexer": "ipython3",
   "version": "3.9.13"
  },
  "orig_nbformat": 4,
  "vscode": {
   "interpreter": {
    "hash": "c79e4088d227ec38596042bb0116e2a52748b9fd0976467c629425f8895ee7f3"
   }
  }
 },
 "nbformat": 4,
 "nbformat_minor": 2
}
